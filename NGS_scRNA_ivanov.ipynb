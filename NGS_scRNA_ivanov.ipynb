{
  "cells": [
    {
      "cell_type": "markdown",
      "metadata": {
        "id": "view-in-github",
        "colab_type": "text"
      },
      "source": [
        "<a href=\"https://colab.research.google.com/github/bio-snippets/NGS_sc/blob/main/NGS_scRNA_ivanov.ipynb\" target=\"_parent\"><img src=\"https://colab.research.google.com/assets/colab-badge.svg\" alt=\"Open In Colab\"/></a>"
      ]
    },
    {
      "cell_type": "code",
      "source": [
        "#RESTART RUNTIME AFTER EXECUTING THE CELL BELOW (matplotlib 3.5 doesn't work properly with some plots for some reason)"
      ],
      "metadata": {
        "id": "WIrb_B8P3pMg"
      },
      "id": "WIrb_B8P3pMg",
      "execution_count": 1,
      "outputs": []
    },
    {
      "cell_type": "code",
      "source": [
        "#RESTART RUNTIME AFTER EXECUTING THIS CELL FOR PLOTS TO WORK\n",
        "!git clone https://github.com/bio-snippets/NGS_sc.git #creates NGS_sc folder in /content\n",
        "!pip install anndata\n",
        "!pip install scanpy\n",
        "!pip install scib\n",
        "!pip uninstall matplotlib -y\n",
        "#!pip install matplotlib==3.1.3\n",
        "!pip install matplotlib==3.4.1"
      ],
      "metadata": {
        "colab": {
          "base_uri": "https://localhost:8080/",
          "height": 1000
        },
        "id": "HXgMr-gixHOU",
        "outputId": "7928b550-e060-4a90-acd9-97de7ecc822e"
      },
      "id": "HXgMr-gixHOU",
      "execution_count": 2,
      "outputs": [
        {
          "output_type": "stream",
          "name": "stdout",
          "text": [
            "Cloning into 'NGS_sc'...\n",
            "remote: Enumerating objects: 20, done.\u001b[K\n",
            "remote: Counting objects: 100% (20/20), done.\u001b[K\n",
            "remote: Compressing objects: 100% (20/20), done.\u001b[K\n",
            "remote: Total 20 (delta 6), reused 0 (delta 0), pack-reused 0\u001b[K\n",
            "Unpacking objects: 100% (20/20), done.\n",
            "Looking in indexes: https://pypi.org/simple, https://us-python.pkg.dev/colab-wheels/public/simple/\n",
            "Collecting anndata\n",
            "  Downloading anndata-0.8.0-py3-none-any.whl (96 kB)\n",
            "\u001b[K     |████████████████████████████████| 96 kB 1.1 MB/s \n",
            "\u001b[?25hRequirement already satisfied: pandas>=1.1.1 in /usr/local/lib/python3.8/dist-packages (from anndata) (1.3.5)\n",
            "Requirement already satisfied: packaging>=20 in /usr/local/lib/python3.8/dist-packages (from anndata) (21.3)\n",
            "Requirement already satisfied: natsort in /usr/local/lib/python3.8/dist-packages (from anndata) (5.5.0)\n",
            "Requirement already satisfied: scipy>1.4 in /usr/local/lib/python3.8/dist-packages (from anndata) (1.7.3)\n",
            "Requirement already satisfied: h5py>=3 in /usr/local/lib/python3.8/dist-packages (from anndata) (3.1.0)\n",
            "Requirement already satisfied: numpy>=1.16.5 in /usr/local/lib/python3.8/dist-packages (from anndata) (1.21.6)\n",
            "Requirement already satisfied: pyparsing!=3.0.5,>=2.0.2 in /usr/local/lib/python3.8/dist-packages (from packaging>=20->anndata) (3.0.9)\n",
            "Requirement already satisfied: python-dateutil>=2.7.3 in /usr/local/lib/python3.8/dist-packages (from pandas>=1.1.1->anndata) (2.8.2)\n",
            "Requirement already satisfied: pytz>=2017.3 in /usr/local/lib/python3.8/dist-packages (from pandas>=1.1.1->anndata) (2022.6)\n",
            "Requirement already satisfied: six>=1.5 in /usr/local/lib/python3.8/dist-packages (from python-dateutil>=2.7.3->pandas>=1.1.1->anndata) (1.15.0)\n",
            "Installing collected packages: anndata\n",
            "Successfully installed anndata-0.8.0\n",
            "Looking in indexes: https://pypi.org/simple, https://us-python.pkg.dev/colab-wheels/public/simple/\n",
            "Collecting scanpy\n",
            "  Downloading scanpy-1.9.1-py3-none-any.whl (2.0 MB)\n",
            "\u001b[K     |████████████████████████████████| 2.0 MB 5.3 MB/s \n",
            "\u001b[?25hRequirement already satisfied: anndata>=0.7.4 in /usr/local/lib/python3.8/dist-packages (from scanpy) (0.8.0)\n",
            "Collecting matplotlib>=3.4\n",
            "  Downloading matplotlib-3.6.2-cp38-cp38-manylinux_2_12_x86_64.manylinux2010_x86_64.whl (9.4 MB)\n",
            "\u001b[K     |████████████████████████████████| 9.4 MB 47.0 MB/s \n",
            "\u001b[?25hRequirement already satisfied: patsy in /usr/local/lib/python3.8/dist-packages (from scanpy) (0.5.3)\n",
            "Requirement already satisfied: numpy>=1.17.0 in /usr/local/lib/python3.8/dist-packages (from scanpy) (1.21.6)\n",
            "Requirement already satisfied: scikit-learn>=0.22 in /usr/local/lib/python3.8/dist-packages (from scanpy) (1.0.2)\n",
            "Requirement already satisfied: networkx>=2.3 in /usr/local/lib/python3.8/dist-packages (from scanpy) (2.8.8)\n",
            "Requirement already satisfied: natsort in /usr/local/lib/python3.8/dist-packages (from scanpy) (5.5.0)\n",
            "Collecting session-info\n",
            "  Downloading session_info-1.0.0.tar.gz (24 kB)\n",
            "Requirement already satisfied: packaging in /usr/local/lib/python3.8/dist-packages (from scanpy) (21.3)\n",
            "Requirement already satisfied: h5py>=3 in /usr/local/lib/python3.8/dist-packages (from scanpy) (3.1.0)\n",
            "Requirement already satisfied: seaborn in /usr/local/lib/python3.8/dist-packages (from scanpy) (0.11.2)\n",
            "Requirement already satisfied: scipy>=1.4 in /usr/local/lib/python3.8/dist-packages (from scanpy) (1.7.3)\n",
            "Requirement already satisfied: statsmodels>=0.10.0rc2 in /usr/local/lib/python3.8/dist-packages (from scanpy) (0.12.2)\n",
            "Requirement already satisfied: joblib in /usr/local/lib/python3.8/dist-packages (from scanpy) (1.2.0)\n",
            "Requirement already satisfied: numba>=0.41.0 in /usr/local/lib/python3.8/dist-packages (from scanpy) (0.56.4)\n",
            "Collecting umap-learn>=0.3.10\n",
            "  Downloading umap-learn-0.5.3.tar.gz (88 kB)\n",
            "\u001b[K     |████████████████████████████████| 88 kB 5.0 MB/s \n",
            "\u001b[?25hRequirement already satisfied: tqdm in /usr/local/lib/python3.8/dist-packages (from scanpy) (4.64.1)\n",
            "Requirement already satisfied: pandas>=1.0 in /usr/local/lib/python3.8/dist-packages (from scanpy) (1.3.5)\n",
            "Collecting fonttools>=4.22.0\n",
            "  Downloading fonttools-4.38.0-py3-none-any.whl (965 kB)\n",
            "\u001b[K     |████████████████████████████████| 965 kB 45.0 MB/s \n",
            "\u001b[?25hRequirement already satisfied: pyparsing>=2.2.1 in /usr/local/lib/python3.8/dist-packages (from matplotlib>=3.4->scanpy) (3.0.9)\n",
            "Requirement already satisfied: python-dateutil>=2.7 in /usr/local/lib/python3.8/dist-packages (from matplotlib>=3.4->scanpy) (2.8.2)\n",
            "Requirement already satisfied: pillow>=6.2.0 in /usr/local/lib/python3.8/dist-packages (from matplotlib>=3.4->scanpy) (7.1.2)\n",
            "Collecting contourpy>=1.0.1\n",
            "  Downloading contourpy-1.0.6-cp38-cp38-manylinux_2_17_x86_64.manylinux2014_x86_64.whl (295 kB)\n",
            "\u001b[K     |████████████████████████████████| 295 kB 60.6 MB/s \n",
            "\u001b[?25hRequirement already satisfied: kiwisolver>=1.0.1 in /usr/local/lib/python3.8/dist-packages (from matplotlib>=3.4->scanpy) (1.4.4)\n",
            "Requirement already satisfied: cycler>=0.10 in /usr/local/lib/python3.8/dist-packages (from matplotlib>=3.4->scanpy) (0.11.0)\n",
            "Requirement already satisfied: setuptools in /usr/local/lib/python3.8/dist-packages (from numba>=0.41.0->scanpy) (57.4.0)\n",
            "Requirement already satisfied: importlib-metadata in /usr/local/lib/python3.8/dist-packages (from numba>=0.41.0->scanpy) (4.13.0)\n",
            "Requirement already satisfied: llvmlite<0.40,>=0.39.0dev0 in /usr/local/lib/python3.8/dist-packages (from numba>=0.41.0->scanpy) (0.39.1)\n",
            "Requirement already satisfied: pytz>=2017.3 in /usr/local/lib/python3.8/dist-packages (from pandas>=1.0->scanpy) (2022.6)\n",
            "Requirement already satisfied: six>=1.5 in /usr/local/lib/python3.8/dist-packages (from python-dateutil>=2.7->matplotlib>=3.4->scanpy) (1.15.0)\n",
            "Requirement already satisfied: threadpoolctl>=2.0.0 in /usr/local/lib/python3.8/dist-packages (from scikit-learn>=0.22->scanpy) (3.1.0)\n",
            "Collecting pynndescent>=0.5\n",
            "  Downloading pynndescent-0.5.8.tar.gz (1.1 MB)\n",
            "\u001b[K     |████████████████████████████████| 1.1 MB 54.5 MB/s \n",
            "\u001b[?25hRequirement already satisfied: zipp>=0.5 in /usr/local/lib/python3.8/dist-packages (from importlib-metadata->numba>=0.41.0->scanpy) (3.11.0)\n",
            "Collecting stdlib_list\n",
            "  Downloading stdlib_list-0.8.0-py3-none-any.whl (63 kB)\n",
            "\u001b[K     |████████████████████████████████| 63 kB 2.3 MB/s \n",
            "\u001b[?25hBuilding wheels for collected packages: umap-learn, pynndescent, session-info\n",
            "  Building wheel for umap-learn (setup.py) ... \u001b[?25l\u001b[?25hdone\n",
            "  Created wheel for umap-learn: filename=umap_learn-0.5.3-py3-none-any.whl size=82829 sha256=610cda17352dbfbcf1d4a64eb5343f89cd9be195df86cd69f3dac8aefde25974\n",
            "  Stored in directory: /root/.cache/pip/wheels/a9/3a/67/06a8950e053725912e6a8c42c4a3a241410f6487b8402542ea\n",
            "  Building wheel for pynndescent (setup.py) ... \u001b[?25l\u001b[?25hdone\n",
            "  Created wheel for pynndescent: filename=pynndescent-0.5.8-py3-none-any.whl size=55513 sha256=18d16b28327c01c3376e57fe9eb19d17235a2f8def0a9cf707d06ddbdfe2522f\n",
            "  Stored in directory: /root/.cache/pip/wheels/1c/63/3a/29954bca1a27ba100ed8c27973a78cb71b43dc67aed62e80c3\n",
            "  Building wheel for session-info (setup.py) ... \u001b[?25l\u001b[?25hdone\n",
            "  Created wheel for session-info: filename=session_info-1.0.0-py3-none-any.whl size=8046 sha256=6360a1e15826516193a3a35f5ae6db5a2730d9d23c40c8919ee06c99c0d9e98e\n",
            "  Stored in directory: /root/.cache/pip/wheels/5c/1b/4d/111d73980c5c6a8e5e5905a19eccc34296cb359cac54c6c5b9\n",
            "Successfully built umap-learn pynndescent session-info\n",
            "Installing collected packages: fonttools, contourpy, stdlib-list, pynndescent, matplotlib, umap-learn, session-info, scanpy\n",
            "  Attempting uninstall: matplotlib\n",
            "    Found existing installation: matplotlib 3.2.2\n",
            "    Uninstalling matplotlib-3.2.2:\n",
            "      Successfully uninstalled matplotlib-3.2.2\n",
            "Successfully installed contourpy-1.0.6 fonttools-4.38.0 matplotlib-3.6.2 pynndescent-0.5.8 scanpy-1.9.1 session-info-1.0.0 stdlib-list-0.8.0 umap-learn-0.5.3\n"
          ]
        },
        {
          "output_type": "display_data",
          "data": {
            "application/vnd.colab-display-data+json": {
              "pip_warning": {
                "packages": [
                  "matplotlib",
                  "mpl_toolkits"
                ]
              }
            }
          },
          "metadata": {}
        },
        {
          "output_type": "stream",
          "name": "stdout",
          "text": [
            "Looking in indexes: https://pypi.org/simple, https://us-python.pkg.dev/colab-wheels/public/simple/\n",
            "Collecting scib\n",
            "  Downloading scib-1.0.5-1-py3-none-any.whl (74 kB)\n",
            "\u001b[K     |████████████████████████████████| 74 kB 2.3 MB/s \n",
            "\u001b[?25hRequirement already satisfied: numpy in /usr/local/lib/python3.8/dist-packages (from scib) (1.21.6)\n",
            "Collecting louvain>=0.8\n",
            "  Downloading louvain-0.8.0-cp38-cp38-manylinux_2_17_x86_64.manylinux2014_x86_64.whl (1.1 MB)\n",
            "\u001b[K     |████████████████████████████████| 1.1 MB 16.3 MB/s \n",
            "\u001b[?25hRequirement already satisfied: scikit-learn in /usr/local/lib/python3.8/dist-packages (from scib) (1.0.2)\n",
            "Requirement already satisfied: anndata>=0.7.2 in /usr/local/lib/python3.8/dist-packages (from scib) (0.8.0)\n",
            "Requirement already satisfied: scipy in /usr/local/lib/python3.8/dist-packages (from scib) (1.7.3)\n",
            "Requirement already satisfied: umap-learn in /usr/local/lib/python3.8/dist-packages (from scib) (0.5.3)\n",
            "Collecting deprecated\n",
            "  Downloading Deprecated-1.2.13-py2.py3-none-any.whl (9.6 kB)\n",
            "Collecting scikit-misc\n",
            "  Downloading scikit_misc-0.1.4-cp38-cp38-manylinux_2_5_x86_64.manylinux1_x86_64.whl (8.8 MB)\n",
            "\u001b[K     |████████████████████████████████| 8.8 MB 47.1 MB/s \n",
            "\u001b[?25hCollecting igraph>=0.10\n",
            "  Downloading igraph-0.10.2-cp38-cp38-manylinux_2_17_x86_64.manylinux2014_x86_64.whl (3.3 MB)\n",
            "\u001b[K     |████████████████████████████████| 3.3 MB 52.2 MB/s \n",
            "\u001b[?25hRequirement already satisfied: h5py in /usr/local/lib/python3.8/dist-packages (from scib) (3.1.0)\n",
            "Requirement already satisfied: scanpy>=1.5 in /usr/local/lib/python3.8/dist-packages (from scib) (1.9.1)\n",
            "Requirement already satisfied: seaborn in /usr/local/lib/python3.8/dist-packages (from scib) (0.11.2)\n",
            "Requirement already satisfied: matplotlib in /usr/local/lib/python3.8/dist-packages (from scib) (3.6.2)\n",
            "Collecting leidenalg\n",
            "  Downloading leidenalg-0.9.0-cp38-cp38-manylinux_2_17_x86_64.manylinux2014_x86_64.whl (1.3 MB)\n",
            "\u001b[K     |████████████████████████████████| 1.3 MB 46.8 MB/s \n",
            "\u001b[?25hRequirement already satisfied: numba in /usr/local/lib/python3.8/dist-packages (from scib) (0.56.4)\n",
            "Requirement already satisfied: llvmlite in /usr/local/lib/python3.8/dist-packages (from scib) (0.39.1)\n",
            "Requirement already satisfied: pandas in /usr/local/lib/python3.8/dist-packages (from scib) (1.3.5)\n",
            "Requirement already satisfied: pydot in /usr/local/lib/python3.8/dist-packages (from scib) (1.3.0)\n",
            "Requirement already satisfied: natsort in /usr/local/lib/python3.8/dist-packages (from anndata>=0.7.2->scib) (5.5.0)\n",
            "Requirement already satisfied: packaging>=20 in /usr/local/lib/python3.8/dist-packages (from anndata>=0.7.2->scib) (21.3)\n",
            "Collecting texttable>=1.6.2\n",
            "  Downloading texttable-1.6.7-py2.py3-none-any.whl (10 kB)\n",
            "Requirement already satisfied: pyparsing!=3.0.5,>=2.0.2 in /usr/local/lib/python3.8/dist-packages (from packaging>=20->anndata>=0.7.2->scib) (3.0.9)\n",
            "Requirement already satisfied: python-dateutil>=2.7.3 in /usr/local/lib/python3.8/dist-packages (from pandas->scib) (2.8.2)\n",
            "Requirement already satisfied: pytz>=2017.3 in /usr/local/lib/python3.8/dist-packages (from pandas->scib) (2022.6)\n",
            "Requirement already satisfied: six>=1.5 in /usr/local/lib/python3.8/dist-packages (from python-dateutil>=2.7.3->pandas->scib) (1.15.0)\n",
            "Requirement already satisfied: joblib in /usr/local/lib/python3.8/dist-packages (from scanpy>=1.5->scib) (1.2.0)\n",
            "Requirement already satisfied: session-info in /usr/local/lib/python3.8/dist-packages (from scanpy>=1.5->scib) (1.0.0)\n",
            "Requirement already satisfied: tqdm in /usr/local/lib/python3.8/dist-packages (from scanpy>=1.5->scib) (4.64.1)\n",
            "Requirement already satisfied: statsmodels>=0.10.0rc2 in /usr/local/lib/python3.8/dist-packages (from scanpy>=1.5->scib) (0.12.2)\n",
            "Requirement already satisfied: networkx>=2.3 in /usr/local/lib/python3.8/dist-packages (from scanpy>=1.5->scib) (2.8.8)\n",
            "Requirement already satisfied: patsy in /usr/local/lib/python3.8/dist-packages (from scanpy>=1.5->scib) (0.5.3)\n",
            "Requirement already satisfied: kiwisolver>=1.0.1 in /usr/local/lib/python3.8/dist-packages (from matplotlib->scib) (1.4.4)\n",
            "Requirement already satisfied: contourpy>=1.0.1 in /usr/local/lib/python3.8/dist-packages (from matplotlib->scib) (1.0.6)\n",
            "Requirement already satisfied: fonttools>=4.22.0 in /usr/local/lib/python3.8/dist-packages (from matplotlib->scib) (4.38.0)\n",
            "Requirement already satisfied: pillow>=6.2.0 in /usr/local/lib/python3.8/dist-packages (from matplotlib->scib) (7.1.2)\n",
            "Requirement already satisfied: cycler>=0.10 in /usr/local/lib/python3.8/dist-packages (from matplotlib->scib) (0.11.0)\n",
            "Requirement already satisfied: setuptools in /usr/local/lib/python3.8/dist-packages (from numba->scib) (57.4.0)\n",
            "Requirement already satisfied: importlib-metadata in /usr/local/lib/python3.8/dist-packages (from numba->scib) (4.13.0)\n",
            "Requirement already satisfied: threadpoolctl>=2.0.0 in /usr/local/lib/python3.8/dist-packages (from scikit-learn->scib) (3.1.0)\n",
            "Requirement already satisfied: pynndescent>=0.5 in /usr/local/lib/python3.8/dist-packages (from umap-learn->scib) (0.5.8)\n",
            "Requirement already satisfied: wrapt<2,>=1.10 in /usr/local/lib/python3.8/dist-packages (from deprecated->scib) (1.14.1)\n",
            "Requirement already satisfied: zipp>=0.5 in /usr/local/lib/python3.8/dist-packages (from importlib-metadata->numba->scib) (3.11.0)\n",
            "Requirement already satisfied: stdlib-list in /usr/local/lib/python3.8/dist-packages (from session-info->scanpy>=1.5->scib) (0.8.0)\n",
            "Installing collected packages: texttable, igraph, scikit-misc, louvain, leidenalg, deprecated, scib\n",
            "Successfully installed deprecated-1.2.13 igraph-0.10.2 leidenalg-0.9.0 louvain-0.8.0 scib-1.0.5 scikit-misc-0.1.4 texttable-1.6.7\n",
            "Found existing installation: matplotlib 3.6.2\n",
            "Uninstalling matplotlib-3.6.2:\n",
            "  Successfully uninstalled matplotlib-3.6.2\n",
            "Looking in indexes: https://pypi.org/simple, https://us-python.pkg.dev/colab-wheels/public/simple/\n",
            "Collecting matplotlib==3.4.1\n",
            "  Downloading matplotlib-3.4.1-cp38-cp38-manylinux1_x86_64.whl (10.3 MB)\n",
            "\u001b[K     |████████████████████████████████| 10.3 MB 9.2 MB/s \n",
            "\u001b[?25hRequirement already satisfied: python-dateutil>=2.7 in /usr/local/lib/python3.8/dist-packages (from matplotlib==3.4.1) (2.8.2)\n",
            "Requirement already satisfied: numpy>=1.16 in /usr/local/lib/python3.8/dist-packages (from matplotlib==3.4.1) (1.21.6)\n",
            "Requirement already satisfied: pyparsing>=2.2.1 in /usr/local/lib/python3.8/dist-packages (from matplotlib==3.4.1) (3.0.9)\n",
            "Requirement already satisfied: pillow>=6.2.0 in /usr/local/lib/python3.8/dist-packages (from matplotlib==3.4.1) (7.1.2)\n",
            "Requirement already satisfied: cycler>=0.10 in /usr/local/lib/python3.8/dist-packages (from matplotlib==3.4.1) (0.11.0)\n",
            "Requirement already satisfied: kiwisolver>=1.0.1 in /usr/local/lib/python3.8/dist-packages (from matplotlib==3.4.1) (1.4.4)\n",
            "Requirement already satisfied: six>=1.5 in /usr/local/lib/python3.8/dist-packages (from python-dateutil>=2.7->matplotlib==3.4.1) (1.15.0)\n",
            "Installing collected packages: matplotlib\n",
            "Successfully installed matplotlib-3.4.1\n"
          ]
        },
        {
          "output_type": "display_data",
          "data": {
            "application/vnd.colab-display-data+json": {
              "pip_warning": {
                "packages": [
                  "matplotlib",
                  "mpl_toolkits"
                ]
              }
            }
          },
          "metadata": {}
        }
      ]
    },
    {
      "cell_type": "code",
      "execution_count": 4,
      "id": "1181b0fb-39e8-49d0-b61f-a3adb9ee27d0",
      "metadata": {
        "id": "1181b0fb-39e8-49d0-b61f-a3adb9ee27d0"
      },
      "outputs": [],
      "source": [
        "from IPython.display import Image, display, Markdown\n",
        "import numpy as np\n",
        "import pandas as pd\n",
        "import seaborn as sns\n",
        "import scipy\n",
        "import sklearn\n",
        "import rpy2\n",
        "from sklearn.preprocessing import StandardScaler\n",
        "from sklearn.decomposition import PCA\n",
        "from sklearn.manifold import MDS\n",
        "import time\n",
        "import matplotlib.pyplot as plt\n",
        "import os\n",
        "import warnings\n",
        "import copy\n",
        "import anndata\n",
        "import scanpy.external as sce\n",
        "import scanpy as sc\n",
        "import scib\n",
        "#%load_ext rpy2.ipython"
      ]
    },
    {
      "cell_type": "markdown",
      "id": "0ecb091e-61ca-4d95-a3a6-9ad2401fac93",
      "metadata": {
        "id": "0ecb091e-61ca-4d95-a3a6-9ad2401fac93"
      },
      "source": [
        "The article from which the data was used\n",
        "https://genomemedicine.biomedcentral.com/articles/10.1186/s13073-022-01051-9"
      ]
    },
    {
      "cell_type": "markdown",
      "id": "ee86d825-e01c-4bf3-9179-7ba030cf5a34",
      "metadata": {
        "id": "ee86d825-e01c-4bf3-9179-7ba030cf5a34"
      },
      "source": [
        "# Acquiring annotation **(Demonstration only. Do not execute the code)**"
      ]
    },
    {
      "cell_type": "markdown",
      "id": "6331e0ff-20d4-4731-8758-e1816d65a677",
      "metadata": {
        "id": "6331e0ff-20d4-4731-8758-e1816d65a677"
      },
      "source": [
        "This part is for demonstration how the annotation was acquired. The code below is not to be ran. (.rds file is too big to run analysis here) .rds files can be found here https://zenodo.org/record/6473604"
      ]
    },
    {
      "cell_type": "code",
      "execution_count": null,
      "id": "34501496-aa0f-4333-9c29-832aa6563e72",
      "metadata": {
        "id": "34501496-aa0f-4333-9c29-832aa6563e72"
      },
      "outputs": [],
      "source": [
        "#annotation for the data consist of several overlapping parts. Combining them into a single dataset and writing in a .tsv\n",
        "%R library(Seurat)\n",
        "anns = {}\n",
        "for filename in ['Final_Aggregated_Dura', 'Final_CD45_neg_Dura', 'Final_CD45_pos_Dura', 'Final_CD45_pos_Dura_and_Tumor']:\n",
        "    filepath = f\"/home/user/Uni/NGS/{filename}.rds\"\n",
        "    %R -i filepath\n",
        "    %R Seu = readRDS(file = filepath)\n",
        "    %R ann = Seu@meta.data\n",
        "    %R rm(Seu)\n",
        "    %R -o ann\n",
        "    anns[filename] = ann"
      ]
    },
    {
      "cell_type": "code",
      "execution_count": null,
      "id": "08ebe645-df99-4035-b7f4-a82b3299c727",
      "metadata": {
        "id": "08ebe645-df99-4035-b7f4-a82b3299c727"
      },
      "outputs": [],
      "source": [
        "ann = pd.concat(anns)\n",
        "ann.to_csv('Wang_raw_annotation.tsv')"
      ]
    },
    {
      "cell_type": "code",
      "execution_count": null,
      "id": "38b75ade-8a85-49b9-b69c-b27b61d01259",
      "metadata": {
        "id": "38b75ade-8a85-49b9-b69c-b27b61d01259",
        "outputId": "3c10873c-6374-49bc-b2ee-2f77e93db93b"
      },
      "outputs": [
        {
          "data": {
            "text/html": [
              "<div>\n",
              "<style scoped>\n",
              "    .dataframe tbody tr th:only-of-type {\n",
              "        vertical-align: middle;\n",
              "    }\n",
              "\n",
              "    .dataframe tbody tr th {\n",
              "        vertical-align: top;\n",
              "    }\n",
              "\n",
              "    .dataframe thead th {\n",
              "        text-align: right;\n",
              "    }\n",
              "</style>\n",
              "<table border=\"1\" class=\"dataframe\">\n",
              "  <thead>\n",
              "    <tr style=\"text-align: right;\">\n",
              "      <th></th>\n",
              "      <th></th>\n",
              "      <th>orig.ident</th>\n",
              "      <th>nCount_RNA</th>\n",
              "      <th>nFeature_RNA</th>\n",
              "      <th>Batch</th>\n",
              "      <th>Sample</th>\n",
              "      <th>percent.mito</th>\n",
              "      <th>percent.ribo</th>\n",
              "      <th>S.Score</th>\n",
              "      <th>G2M.Score</th>\n",
              "      <th>Phase</th>\n",
              "      <th>seurat_clusters</th>\n",
              "      <th>Final_celltype</th>\n",
              "      <th>seurat_clusters_modified</th>\n",
              "      <th>Final_Celltypes</th>\n",
              "      <th>seurat_clusters_modified_new</th>\n",
              "      <th>Final_celltypes</th>\n",
              "    </tr>\n",
              "  </thead>\n",
              "  <tbody>\n",
              "    <tr>\n",
              "      <th rowspan=\"5\" valign=\"top\">Final_Aggregated_Dura</th>\n",
              "      <th>MEN05_AAACCCAAGCTGGAGT-1</th>\n",
              "      <td>1</td>\n",
              "      <td>1363.0</td>\n",
              "      <td>761</td>\n",
              "      <td>1</td>\n",
              "      <td>MEN05</td>\n",
              "      <td>0.021277</td>\n",
              "      <td>0.038885</td>\n",
              "      <td>-0.520016</td>\n",
              "      <td>-0.610908</td>\n",
              "      <td>G1</td>\n",
              "      <td>6</td>\n",
              "      <td>2.0</td>\n",
              "      <td>NaN</td>\n",
              "      <td>NaN</td>\n",
              "      <td>NaN</td>\n",
              "      <td>NaN</td>\n",
              "    </tr>\n",
              "    <tr>\n",
              "      <th>MEN05_AAACCCACAGGAATAT-1</th>\n",
              "      <td>1</td>\n",
              "      <td>35921.0</td>\n",
              "      <td>5238</td>\n",
              "      <td>1</td>\n",
              "      <td>MEN05</td>\n",
              "      <td>0.029509</td>\n",
              "      <td>0.186019</td>\n",
              "      <td>-0.002319</td>\n",
              "      <td>-0.639656</td>\n",
              "      <td>G1</td>\n",
              "      <td>6</td>\n",
              "      <td>2.0</td>\n",
              "      <td>NaN</td>\n",
              "      <td>NaN</td>\n",
              "      <td>NaN</td>\n",
              "      <td>NaN</td>\n",
              "    </tr>\n",
              "    <tr>\n",
              "      <th>MEN05_AAACCCATCCATCCGT-1</th>\n",
              "      <td>1</td>\n",
              "      <td>8695.0</td>\n",
              "      <td>2168</td>\n",
              "      <td>1</td>\n",
              "      <td>MEN05</td>\n",
              "      <td>0.027947</td>\n",
              "      <td>0.263600</td>\n",
              "      <td>0.006861</td>\n",
              "      <td>-0.292826</td>\n",
              "      <td>S</td>\n",
              "      <td>4</td>\n",
              "      <td>2.0</td>\n",
              "      <td>NaN</td>\n",
              "      <td>NaN</td>\n",
              "      <td>NaN</td>\n",
              "      <td>NaN</td>\n",
              "    </tr>\n",
              "    <tr>\n",
              "      <th>MEN05_AAACGCTAGCCGCTTG-1</th>\n",
              "      <td>1</td>\n",
              "      <td>16704.0</td>\n",
              "      <td>3536</td>\n",
              "      <td>1</td>\n",
              "      <td>MEN05</td>\n",
              "      <td>0.021671</td>\n",
              "      <td>0.199713</td>\n",
              "      <td>-0.134009</td>\n",
              "      <td>0.137118</td>\n",
              "      <td>G2M</td>\n",
              "      <td>13</td>\n",
              "      <td>2.0</td>\n",
              "      <td>NaN</td>\n",
              "      <td>NaN</td>\n",
              "      <td>NaN</td>\n",
              "      <td>NaN</td>\n",
              "    </tr>\n",
              "    <tr>\n",
              "      <th>MEN05_AAACGCTGTGTTCGAT-1</th>\n",
              "      <td>1</td>\n",
              "      <td>12264.0</td>\n",
              "      <td>2870</td>\n",
              "      <td>1</td>\n",
              "      <td>MEN05</td>\n",
              "      <td>0.048516</td>\n",
              "      <td>0.168624</td>\n",
              "      <td>0.817532</td>\n",
              "      <td>-0.241773</td>\n",
              "      <td>S</td>\n",
              "      <td>6</td>\n",
              "      <td>2.0</td>\n",
              "      <td>NaN</td>\n",
              "      <td>NaN</td>\n",
              "      <td>NaN</td>\n",
              "      <td>NaN</td>\n",
              "    </tr>\n",
              "    <tr>\n",
              "      <th>...</th>\n",
              "      <th>...</th>\n",
              "      <td>...</td>\n",
              "      <td>...</td>\n",
              "      <td>...</td>\n",
              "      <td>...</td>\n",
              "      <td>...</td>\n",
              "      <td>...</td>\n",
              "      <td>...</td>\n",
              "      <td>...</td>\n",
              "      <td>...</td>\n",
              "      <td>...</td>\n",
              "      <td>...</td>\n",
              "      <td>...</td>\n",
              "      <td>...</td>\n",
              "      <td>...</td>\n",
              "      <td>...</td>\n",
              "      <td>...</td>\n",
              "    </tr>\n",
              "    <tr>\n",
              "      <th rowspan=\"5\" valign=\"top\">Final_CD45_pos_Dura_and_Tumor</th>\n",
              "      <th>DURA13_TTTGGTTCAGGAATGC-1</th>\n",
              "      <td>8</td>\n",
              "      <td>5011.0</td>\n",
              "      <td>1871</td>\n",
              "      <td>8</td>\n",
              "      <td>DURA13</td>\n",
              "      <td>0.021353</td>\n",
              "      <td>0.037517</td>\n",
              "      <td>-0.101134</td>\n",
              "      <td>0.239600</td>\n",
              "      <td>G2M</td>\n",
              "      <td>1</td>\n",
              "      <td>NaN</td>\n",
              "      <td>NaN</td>\n",
              "      <td>NaN</td>\n",
              "      <td>2.0</td>\n",
              "      <td>1.0</td>\n",
              "    </tr>\n",
              "    <tr>\n",
              "      <th>DURA13_TTTGGTTTCCCACTTG-1</th>\n",
              "      <td>8</td>\n",
              "      <td>6158.0</td>\n",
              "      <td>2105</td>\n",
              "      <td>8</td>\n",
              "      <td>DURA13</td>\n",
              "      <td>0.032153</td>\n",
              "      <td>0.150373</td>\n",
              "      <td>-0.076444</td>\n",
              "      <td>-0.253564</td>\n",
              "      <td>G1</td>\n",
              "      <td>1</td>\n",
              "      <td>NaN</td>\n",
              "      <td>NaN</td>\n",
              "      <td>NaN</td>\n",
              "      <td>2.0</td>\n",
              "      <td>1.0</td>\n",
              "    </tr>\n",
              "    <tr>\n",
              "      <th>DURA13_TTTGTCAAGGGTCGAT-1</th>\n",
              "      <td>8</td>\n",
              "      <td>2079.0</td>\n",
              "      <td>875</td>\n",
              "      <td>8</td>\n",
              "      <td>DURA13</td>\n",
              "      <td>0.039923</td>\n",
              "      <td>0.323713</td>\n",
              "      <td>-0.155970</td>\n",
              "      <td>0.278645</td>\n",
              "      <td>G2M</td>\n",
              "      <td>13</td>\n",
              "      <td>NaN</td>\n",
              "      <td>NaN</td>\n",
              "      <td>NaN</td>\n",
              "      <td>14.0</td>\n",
              "      <td>8.0</td>\n",
              "    </tr>\n",
              "    <tr>\n",
              "      <th>DURA13_TTTGTCAGTATCTGCA-1</th>\n",
              "      <td>8</td>\n",
              "      <td>5647.0</td>\n",
              "      <td>1928</td>\n",
              "      <td>8</td>\n",
              "      <td>DURA13</td>\n",
              "      <td>0.051178</td>\n",
              "      <td>0.072959</td>\n",
              "      <td>-0.117821</td>\n",
              "      <td>-0.190056</td>\n",
              "      <td>G1</td>\n",
              "      <td>17</td>\n",
              "      <td>NaN</td>\n",
              "      <td>NaN</td>\n",
              "      <td>NaN</td>\n",
              "      <td>18.0</td>\n",
              "      <td>1.0</td>\n",
              "    </tr>\n",
              "    <tr>\n",
              "      <th>DURA13_TTTGTCAGTCGTGGCT-1</th>\n",
              "      <td>8</td>\n",
              "      <td>2341.0</td>\n",
              "      <td>1015</td>\n",
              "      <td>8</td>\n",
              "      <td>DURA13</td>\n",
              "      <td>0.020504</td>\n",
              "      <td>0.305425</td>\n",
              "      <td>-0.201148</td>\n",
              "      <td>0.091327</td>\n",
              "      <td>G2M</td>\n",
              "      <td>7</td>\n",
              "      <td>NaN</td>\n",
              "      <td>NaN</td>\n",
              "      <td>NaN</td>\n",
              "      <td>8.0</td>\n",
              "      <td>5.0</td>\n",
              "    </tr>\n",
              "  </tbody>\n",
              "</table>\n",
              "<p>57501 rows × 16 columns</p>\n",
              "</div>"
            ],
            "text/plain": [
              "                                                        orig.ident  \\\n",
              "Final_Aggregated_Dura         MEN05_AAACCCAAGCTGGAGT-1           1   \n",
              "                              MEN05_AAACCCACAGGAATAT-1           1   \n",
              "                              MEN05_AAACCCATCCATCCGT-1           1   \n",
              "                              MEN05_AAACGCTAGCCGCTTG-1           1   \n",
              "                              MEN05_AAACGCTGTGTTCGAT-1           1   \n",
              "...                                                            ...   \n",
              "Final_CD45_pos_Dura_and_Tumor DURA13_TTTGGTTCAGGAATGC-1          8   \n",
              "                              DURA13_TTTGGTTTCCCACTTG-1          8   \n",
              "                              DURA13_TTTGTCAAGGGTCGAT-1          8   \n",
              "                              DURA13_TTTGTCAGTATCTGCA-1          8   \n",
              "                              DURA13_TTTGTCAGTCGTGGCT-1          8   \n",
              "\n",
              "                                                         nCount_RNA  \\\n",
              "Final_Aggregated_Dura         MEN05_AAACCCAAGCTGGAGT-1       1363.0   \n",
              "                              MEN05_AAACCCACAGGAATAT-1      35921.0   \n",
              "                              MEN05_AAACCCATCCATCCGT-1       8695.0   \n",
              "                              MEN05_AAACGCTAGCCGCTTG-1      16704.0   \n",
              "                              MEN05_AAACGCTGTGTTCGAT-1      12264.0   \n",
              "...                                                             ...   \n",
              "Final_CD45_pos_Dura_and_Tumor DURA13_TTTGGTTCAGGAATGC-1      5011.0   \n",
              "                              DURA13_TTTGGTTTCCCACTTG-1      6158.0   \n",
              "                              DURA13_TTTGTCAAGGGTCGAT-1      2079.0   \n",
              "                              DURA13_TTTGTCAGTATCTGCA-1      5647.0   \n",
              "                              DURA13_TTTGTCAGTCGTGGCT-1      2341.0   \n",
              "\n",
              "                                                         nFeature_RNA Batch  \\\n",
              "Final_Aggregated_Dura         MEN05_AAACCCAAGCTGGAGT-1            761     1   \n",
              "                              MEN05_AAACCCACAGGAATAT-1           5238     1   \n",
              "                              MEN05_AAACCCATCCATCCGT-1           2168     1   \n",
              "                              MEN05_AAACGCTAGCCGCTTG-1           3536     1   \n",
              "                              MEN05_AAACGCTGTGTTCGAT-1           2870     1   \n",
              "...                                                               ...   ...   \n",
              "Final_CD45_pos_Dura_and_Tumor DURA13_TTTGGTTCAGGAATGC-1          1871     8   \n",
              "                              DURA13_TTTGGTTTCCCACTTG-1          2105     8   \n",
              "                              DURA13_TTTGTCAAGGGTCGAT-1           875     8   \n",
              "                              DURA13_TTTGTCAGTATCTGCA-1          1928     8   \n",
              "                              DURA13_TTTGTCAGTCGTGGCT-1          1015     8   \n",
              "\n",
              "                                                         Sample  percent.mito  \\\n",
              "Final_Aggregated_Dura         MEN05_AAACCCAAGCTGGAGT-1    MEN05      0.021277   \n",
              "                              MEN05_AAACCCACAGGAATAT-1    MEN05      0.029509   \n",
              "                              MEN05_AAACCCATCCATCCGT-1    MEN05      0.027947   \n",
              "                              MEN05_AAACGCTAGCCGCTTG-1    MEN05      0.021671   \n",
              "                              MEN05_AAACGCTGTGTTCGAT-1    MEN05      0.048516   \n",
              "...                                                         ...           ...   \n",
              "Final_CD45_pos_Dura_and_Tumor DURA13_TTTGGTTCAGGAATGC-1  DURA13      0.021353   \n",
              "                              DURA13_TTTGGTTTCCCACTTG-1  DURA13      0.032153   \n",
              "                              DURA13_TTTGTCAAGGGTCGAT-1  DURA13      0.039923   \n",
              "                              DURA13_TTTGTCAGTATCTGCA-1  DURA13      0.051178   \n",
              "                              DURA13_TTTGTCAGTCGTGGCT-1  DURA13      0.020504   \n",
              "\n",
              "                                                         percent.ribo  \\\n",
              "Final_Aggregated_Dura         MEN05_AAACCCAAGCTGGAGT-1       0.038885   \n",
              "                              MEN05_AAACCCACAGGAATAT-1       0.186019   \n",
              "                              MEN05_AAACCCATCCATCCGT-1       0.263600   \n",
              "                              MEN05_AAACGCTAGCCGCTTG-1       0.199713   \n",
              "                              MEN05_AAACGCTGTGTTCGAT-1       0.168624   \n",
              "...                                                               ...   \n",
              "Final_CD45_pos_Dura_and_Tumor DURA13_TTTGGTTCAGGAATGC-1      0.037517   \n",
              "                              DURA13_TTTGGTTTCCCACTTG-1      0.150373   \n",
              "                              DURA13_TTTGTCAAGGGTCGAT-1      0.323713   \n",
              "                              DURA13_TTTGTCAGTATCTGCA-1      0.072959   \n",
              "                              DURA13_TTTGTCAGTCGTGGCT-1      0.305425   \n",
              "\n",
              "                                                          S.Score  G2M.Score  \\\n",
              "Final_Aggregated_Dura         MEN05_AAACCCAAGCTGGAGT-1  -0.520016  -0.610908   \n",
              "                              MEN05_AAACCCACAGGAATAT-1  -0.002319  -0.639656   \n",
              "                              MEN05_AAACCCATCCATCCGT-1   0.006861  -0.292826   \n",
              "                              MEN05_AAACGCTAGCCGCTTG-1  -0.134009   0.137118   \n",
              "                              MEN05_AAACGCTGTGTTCGAT-1   0.817532  -0.241773   \n",
              "...                                                           ...        ...   \n",
              "Final_CD45_pos_Dura_and_Tumor DURA13_TTTGGTTCAGGAATGC-1 -0.101134   0.239600   \n",
              "                              DURA13_TTTGGTTTCCCACTTG-1 -0.076444  -0.253564   \n",
              "                              DURA13_TTTGTCAAGGGTCGAT-1 -0.155970   0.278645   \n",
              "                              DURA13_TTTGTCAGTATCTGCA-1 -0.117821  -0.190056   \n",
              "                              DURA13_TTTGTCAGTCGTGGCT-1 -0.201148   0.091327   \n",
              "\n",
              "                                                        Phase  \\\n",
              "Final_Aggregated_Dura         MEN05_AAACCCAAGCTGGAGT-1     G1   \n",
              "                              MEN05_AAACCCACAGGAATAT-1     G1   \n",
              "                              MEN05_AAACCCATCCATCCGT-1      S   \n",
              "                              MEN05_AAACGCTAGCCGCTTG-1    G2M   \n",
              "                              MEN05_AAACGCTGTGTTCGAT-1      S   \n",
              "...                                                       ...   \n",
              "Final_CD45_pos_Dura_and_Tumor DURA13_TTTGGTTCAGGAATGC-1   G2M   \n",
              "                              DURA13_TTTGGTTTCCCACTTG-1    G1   \n",
              "                              DURA13_TTTGTCAAGGGTCGAT-1   G2M   \n",
              "                              DURA13_TTTGTCAGTATCTGCA-1    G1   \n",
              "                              DURA13_TTTGTCAGTCGTGGCT-1   G2M   \n",
              "\n",
              "                                                         seurat_clusters  \\\n",
              "Final_Aggregated_Dura         MEN05_AAACCCAAGCTGGAGT-1                 6   \n",
              "                              MEN05_AAACCCACAGGAATAT-1                 6   \n",
              "                              MEN05_AAACCCATCCATCCGT-1                 4   \n",
              "                              MEN05_AAACGCTAGCCGCTTG-1                13   \n",
              "                              MEN05_AAACGCTGTGTTCGAT-1                 6   \n",
              "...                                                                  ...   \n",
              "Final_CD45_pos_Dura_and_Tumor DURA13_TTTGGTTCAGGAATGC-1                1   \n",
              "                              DURA13_TTTGGTTTCCCACTTG-1                1   \n",
              "                              DURA13_TTTGTCAAGGGTCGAT-1               13   \n",
              "                              DURA13_TTTGTCAGTATCTGCA-1               17   \n",
              "                              DURA13_TTTGTCAGTCGTGGCT-1                7   \n",
              "\n",
              "                                                         Final_celltype  \\\n",
              "Final_Aggregated_Dura         MEN05_AAACCCAAGCTGGAGT-1              2.0   \n",
              "                              MEN05_AAACCCACAGGAATAT-1              2.0   \n",
              "                              MEN05_AAACCCATCCATCCGT-1              2.0   \n",
              "                              MEN05_AAACGCTAGCCGCTTG-1              2.0   \n",
              "                              MEN05_AAACGCTGTGTTCGAT-1              2.0   \n",
              "...                                                                 ...   \n",
              "Final_CD45_pos_Dura_and_Tumor DURA13_TTTGGTTCAGGAATGC-1             NaN   \n",
              "                              DURA13_TTTGGTTTCCCACTTG-1             NaN   \n",
              "                              DURA13_TTTGTCAAGGGTCGAT-1             NaN   \n",
              "                              DURA13_TTTGTCAGTATCTGCA-1             NaN   \n",
              "                              DURA13_TTTGTCAGTCGTGGCT-1             NaN   \n",
              "\n",
              "                                                         seurat_clusters_modified  \\\n",
              "Final_Aggregated_Dura         MEN05_AAACCCAAGCTGGAGT-1                        NaN   \n",
              "                              MEN05_AAACCCACAGGAATAT-1                        NaN   \n",
              "                              MEN05_AAACCCATCCATCCGT-1                        NaN   \n",
              "                              MEN05_AAACGCTAGCCGCTTG-1                        NaN   \n",
              "                              MEN05_AAACGCTGTGTTCGAT-1                        NaN   \n",
              "...                                                                           ...   \n",
              "Final_CD45_pos_Dura_and_Tumor DURA13_TTTGGTTCAGGAATGC-1                       NaN   \n",
              "                              DURA13_TTTGGTTTCCCACTTG-1                       NaN   \n",
              "                              DURA13_TTTGTCAAGGGTCGAT-1                       NaN   \n",
              "                              DURA13_TTTGTCAGTATCTGCA-1                       NaN   \n",
              "                              DURA13_TTTGTCAGTCGTGGCT-1                       NaN   \n",
              "\n",
              "                                                         Final_Celltypes  \\\n",
              "Final_Aggregated_Dura         MEN05_AAACCCAAGCTGGAGT-1               NaN   \n",
              "                              MEN05_AAACCCACAGGAATAT-1               NaN   \n",
              "                              MEN05_AAACCCATCCATCCGT-1               NaN   \n",
              "                              MEN05_AAACGCTAGCCGCTTG-1               NaN   \n",
              "                              MEN05_AAACGCTGTGTTCGAT-1               NaN   \n",
              "...                                                                  ...   \n",
              "Final_CD45_pos_Dura_and_Tumor DURA13_TTTGGTTCAGGAATGC-1              NaN   \n",
              "                              DURA13_TTTGGTTTCCCACTTG-1              NaN   \n",
              "                              DURA13_TTTGTCAAGGGTCGAT-1              NaN   \n",
              "                              DURA13_TTTGTCAGTATCTGCA-1              NaN   \n",
              "                              DURA13_TTTGTCAGTCGTGGCT-1              NaN   \n",
              "\n",
              "                                                         seurat_clusters_modified_new  \\\n",
              "Final_Aggregated_Dura         MEN05_AAACCCAAGCTGGAGT-1                            NaN   \n",
              "                              MEN05_AAACCCACAGGAATAT-1                            NaN   \n",
              "                              MEN05_AAACCCATCCATCCGT-1                            NaN   \n",
              "                              MEN05_AAACGCTAGCCGCTTG-1                            NaN   \n",
              "                              MEN05_AAACGCTGTGTTCGAT-1                            NaN   \n",
              "...                                                                               ...   \n",
              "Final_CD45_pos_Dura_and_Tumor DURA13_TTTGGTTCAGGAATGC-1                           2.0   \n",
              "                              DURA13_TTTGGTTTCCCACTTG-1                           2.0   \n",
              "                              DURA13_TTTGTCAAGGGTCGAT-1                          14.0   \n",
              "                              DURA13_TTTGTCAGTATCTGCA-1                          18.0   \n",
              "                              DURA13_TTTGTCAGTCGTGGCT-1                           8.0   \n",
              "\n",
              "                                                         Final_celltypes  \n",
              "Final_Aggregated_Dura         MEN05_AAACCCAAGCTGGAGT-1               NaN  \n",
              "                              MEN05_AAACCCACAGGAATAT-1               NaN  \n",
              "                              MEN05_AAACCCATCCATCCGT-1               NaN  \n",
              "                              MEN05_AAACGCTAGCCGCTTG-1               NaN  \n",
              "                              MEN05_AAACGCTGTGTTCGAT-1               NaN  \n",
              "...                                                                  ...  \n",
              "Final_CD45_pos_Dura_and_Tumor DURA13_TTTGGTTCAGGAATGC-1              1.0  \n",
              "                              DURA13_TTTGGTTTCCCACTTG-1              1.0  \n",
              "                              DURA13_TTTGTCAAGGGTCGAT-1              8.0  \n",
              "                              DURA13_TTTGTCAGTATCTGCA-1              1.0  \n",
              "                              DURA13_TTTGTCAGTCGTGGCT-1              5.0  \n",
              "\n",
              "[57501 rows x 16 columns]"
            ]
          },
          "execution_count": 41,
          "metadata": {},
          "output_type": "execute_result"
        }
      ],
      "source": [
        "ann"
      ]
    },
    {
      "cell_type": "code",
      "execution_count": null,
      "id": "30306b00-af68-4062-a30d-13646d5c4e27",
      "metadata": {
        "id": "30306b00-af68-4062-a30d-13646d5c4e27"
      },
      "outputs": [],
      "source": [
        "del ann"
      ]
    },
    {
      "cell_type": "markdown",
      "id": "c70939ea-b9a4-450e-8f02-8ef8d89116dd",
      "metadata": {
        "id": "c70939ea-b9a4-450e-8f02-8ef8d89116dd"
      },
      "source": [
        "# Create annData"
      ]
    },
    {
      "cell_type": "markdown",
      "id": "cb23bffd-6193-4831-a317-0fcfb18555a4",
      "metadata": {
        "id": "cb23bffd-6193-4831-a317-0fcfb18555a4"
      },
      "source": [
        "Researches provided counts for all the 4 but I'm the most interested in 'Final_CD45_pos_Dura_and_Tumor'\n",
        "\n",
        "Paragraph from the study about this data: <br>\n",
        "\"Similarly, four paired dura and meningioma samples were processed together using the Seurat R package. Similar filtering criteria were applied, but samples were merged, rather than batched and integrated (because the same sequencing technology was used), then normalized.\"\n",
        "\n",
        "Thus, there was no batch_correction, and preprocessing of data can be compared."
      ]
    },
    {
      "cell_type": "code",
      "execution_count": 5,
      "id": "7993c1a2-6d77-4e24-a6a4-c850898edb20",
      "metadata": {
        "id": "7993c1a2-6d77-4e24-a6a4-c850898edb20",
        "outputId": "148d2ac8-f7dc-4172-f5a0-cdf90a098d1f",
        "colab": {
          "base_uri": "https://localhost:8080/",
          "height": 36
        }
      },
      "outputs": [
        {
          "output_type": "execute_result",
          "data": {
            "text/plain": [
              "'/content/NGS_sc'"
            ],
            "application/vnd.google.colaboratory.intrinsic+json": {
              "type": "string"
            }
          },
          "metadata": {},
          "execution_count": 5
        }
      ],
      "source": [
        "#setting the woriknig folder\n",
        "current_folder = os.getcwd()\n",
        "current_folder"
      ]
    },
    {
      "cell_type": "code",
      "execution_count": 6,
      "id": "58db1567-0f4a-4a5b-acde-83ae91ee369d",
      "metadata": {
        "id": "58db1567-0f4a-4a5b-acde-83ae91ee369d",
        "outputId": "401034dd-d686-4177-826a-99d5c16bdfcb",
        "colab": {
          "base_uri": "https://localhost:8080/",
          "height": 171
        }
      },
      "outputs": [
        {
          "output_type": "error",
          "ename": "FileNotFoundError",
          "evalue": "ignored",
          "traceback": [
            "\u001b[0;31m---------------------------------------------------------------------------\u001b[0m",
            "\u001b[0;31mFileNotFoundError\u001b[0m                         Traceback (most recent call last)",
            "\u001b[0;32m<ipython-input-6-13e73f251ae9>\u001b[0m in \u001b[0;36m<module>\u001b[0;34m\u001b[0m\n\u001b[0;32m----> 1\u001b[0;31m \u001b[0mos\u001b[0m\u001b[0;34m.\u001b[0m\u001b[0mchdir\u001b[0m\u001b[0;34m(\u001b[0m\u001b[0mcurrent_folder\u001b[0m \u001b[0;34m+\u001b[0m \u001b[0;34m'/NGS_sc'\u001b[0m\u001b[0;34m)\u001b[0m\u001b[0;34m\u001b[0m\u001b[0;34m\u001b[0m\u001b[0m\n\u001b[0m",
            "\u001b[0;31mFileNotFoundError\u001b[0m: [Errno 2] No such file or directory: '/content/NGS_sc/NGS_sc'"
          ]
        }
      ],
      "source": [
        "os.chdir(current_folder + '/NGS_sc')"
      ]
    },
    {
      "cell_type": "code",
      "source": [
        "#first, lets's download the file with raw counts\n",
        "!wget https://zenodo.org/record/6473604/files/RawData_210723.zip?download=1"
      ],
      "metadata": {
        "id": "LZ-XihaH1iNa"
      },
      "id": "LZ-XihaH1iNa",
      "execution_count": null,
      "outputs": []
    },
    {
      "cell_type": "code",
      "source": [
        "#unzipping it\n",
        "!unzip RawData_210723.zip?download=1"
      ],
      "metadata": {
        "id": "B7KTIJFu2RDs"
      },
      "id": "B7KTIJFu2RDs",
      "execution_count": null,
      "outputs": []
    },
    {
      "cell_type": "code",
      "source": [
        "#unzipping subfolder\n",
        "!apt install p7zip\n",
        "!7za x Raw_Files/scRNA_Raw_Files.7z\n",
        "#it creates NGS_sc/scRNA_Raw_Files subfolder. We will need this one!"
      ],
      "metadata": {
        "id": "l28H7JQM2gW5"
      },
      "id": "l28H7JQM2gW5",
      "execution_count": null,
      "outputs": []
    },
    {
      "cell_type": "code",
      "execution_count": null,
      "id": "0b43e76e-ab29-4d24-a847-804d7701be27",
      "metadata": {
        "id": "0b43e76e-ab29-4d24-a847-804d7701be27"
      },
      "outputs": [],
      "source": [
        "ann = pd.read_csv('Wang_raw_annotation.tsv')\n",
        "ann_selected = ann[ann['Unnamed: 0'] == 'Final_CD45_pos_Dura_and_Tumor']\n",
        "ann_selected = ann_selected.rename(columns = {'Unnamed: 1':'Barcode'})\n",
        "ann_selected = ann_selected.loc[:,['Barcode','Batch', 'seurat_clusters', 'Sample', 'seurat_clusters_modified_new', 'Final_celltypes']]\n",
        "ann_selected = ann_selected.set_index('Barcode')\n",
        "del ann\n",
        "ann_selected.to_csv('ann_selected.tsv', sep = '\\t')\n",
        "ann_selected"
      ]
    },
    {
      "cell_type": "code",
      "execution_count": null,
      "id": "c2e629cc-dc17-419a-b86e-0c3ba77760ec",
      "metadata": {
        "id": "c2e629cc-dc17-419a-b86e-0c3ba77760ec"
      },
      "outputs": [],
      "source": [
        "ann_selected[['seurat_clusters']].value_counts()"
      ]
    },
    {
      "cell_type": "code",
      "execution_count": null,
      "id": "8f69c989-42e6-4c8e-84c6-dd3941153077",
      "metadata": {
        "id": "8f69c989-42e6-4c8e-84c6-dd3941153077"
      },
      "outputs": [],
      "source": [
        "ann_selected['Sample'].unique()"
      ]
    },
    {
      "cell_type": "markdown",
      "id": "3adb88b8-a1aa-450e-a81d-7a73d3c81473",
      "metadata": {
        "id": "3adb88b8-a1aa-450e-a81d-7a73d3c81473"
      },
      "source": [
        "We have 8 samples, they correspond to their count matrix. Let's get those."
      ]
    },
    {
      "cell_type": "code",
      "execution_count": null,
      "id": "276bef70-cd30-4ab0-a02e-05df724d076e",
      "metadata": {
        "id": "276bef70-cd30-4ab0-a02e-05df724d076e"
      },
      "outputs": [],
      "source": [
        "samples = list(ann_selected['Sample'].unique())\n",
        "runs = ['MEN08_TUMOR', 'MEN09_TUMOR','MEN10_TUMOR','MEN13_TUMOR','MEN08', 'MEN09','MEN10','MEN13',]\n",
        "folders_to_samples= dict(zip(runs,samples))\n",
        "folders_to_samples"
      ]
    },
    {
      "cell_type": "code",
      "execution_count": null,
      "id": "912e1748-68fc-43b3-b58f-35d776b0eb08",
      "metadata": {
        "id": "912e1748-68fc-43b3-b58f-35d776b0eb08"
      },
      "outputs": [],
      "source": [
        "#it takes about 5 minutes to read all the 8\n",
        "data = {}\n",
        "for run in runs:\n",
        "    adata = sc.read_10x_mtx(f'scRNA_Raw_Files/{run}/filtered_feature_bc_matrix/')\n",
        "    data[folders_to_samples[run]] = adata\n",
        "del adata"
      ]
    },
    {
      "cell_type": "code",
      "execution_count": null,
      "id": "da979ae2-cc67-430a-b378-5ca1c0814e33",
      "metadata": {
        "id": "da979ae2-cc67-430a-b378-5ca1c0814e33"
      },
      "outputs": [],
      "source": [
        "data #8 adata objects"
      ]
    },
    {
      "cell_type": "code",
      "execution_count": null,
      "id": "364221e8-20a4-4370-8d96-ce2000ccfee4",
      "metadata": {
        "id": "364221e8-20a4-4370-8d96-ce2000ccfee4"
      },
      "outputs": [],
      "source": [
        "#now creating a single AnnData object from it with barcodes corresponding to barcodes from annotation\n",
        "mdata = copy.deepcopy(data) #modified data\n",
        "for sample in samples:\n",
        "    mdata[sample].obs.index = sample + '_' + mdata[sample].obs.index"
      ]
    },
    {
      "cell_type": "code",
      "execution_count": null,
      "id": "179c6b08-d25a-437b-8602-ff009d495de1",
      "metadata": {
        "id": "179c6b08-d25a-437b-8602-ff009d495de1"
      },
      "outputs": [],
      "source": [
        "mdata['MEN08'].obs.head()"
      ]
    },
    {
      "cell_type": "code",
      "execution_count": null,
      "id": "926827d7-1494-4ed3-b27e-2202b34d5832",
      "metadata": {
        "id": "926827d7-1494-4ed3-b27e-2202b34d5832"
      },
      "outputs": [],
      "source": [
        "adata = anndata.concat([mdata[sample] for sample in samples])\n",
        "adata"
      ]
    },
    {
      "cell_type": "code",
      "execution_count": null,
      "id": "5db20cc5-5d4d-49d2-87b8-94055c10d57b",
      "metadata": {
        "id": "5db20cc5-5d4d-49d2-87b8-94055c10d57b"
      },
      "outputs": [],
      "source": [
        "adata.write('combined_adata', compression = 'gzip')\n",
        "del adata\n",
        "del data\n",
        "del mdata\n",
        "import gc\n",
        "gc.collect()"
      ]
    },
    {
      "cell_type": "code",
      "source": [
        "os.chdir('/content/NGS_sc')"
      ],
      "metadata": {
        "id": "-pfF9fjIdbJ_"
      },
      "id": "-pfF9fjIdbJ_",
      "execution_count": null,
      "outputs": []
    },
    {
      "cell_type": "code",
      "execution_count": null,
      "id": "01162a88-915e-44f1-a778-9a02572389ee",
      "metadata": {
        "id": "01162a88-915e-44f1-a778-9a02572389ee"
      },
      "outputs": [],
      "source": [
        "adata = sc.read_h5ad('combined_adata')\n",
        "ann_selected = pd.read_csv('ann_selected.tsv', sep = '\\t', index_col = 0)"
      ]
    },
    {
      "cell_type": "code",
      "execution_count": null,
      "id": "e4b41a3b-fb9d-4645-a829-df77f60e95f4",
      "metadata": {
        "id": "e4b41a3b-fb9d-4645-a829-df77f60e95f4"
      },
      "outputs": [],
      "source": [
        "#check the number of cells in annotation and in raw data\n",
        "adata.obs.shape, ann_selected.shape"
      ]
    },
    {
      "cell_type": "markdown",
      "id": "e1c767a1-61a6-4820-838c-687a5600bbec",
      "metadata": {
        "id": "e1c767a1-61a6-4820-838c-687a5600bbec"
      },
      "source": [
        "As we can see, there is much more cells in raw data compared to the number of cells. It's only logical since some cells probably were excluded after the quality control. \n",
        "\n",
        "First I'm going to do the Quality Control and analysis. And after that I'm going to compare clusters between my analysis and annotation only for those cells which are present in the annotation. "
      ]
    },
    {
      "cell_type": "code",
      "execution_count": null,
      "id": "ca2a524e-494c-41c6-ad6c-9329020689c2",
      "metadata": {
        "id": "ca2a524e-494c-41c6-ad6c-9329020689c2"
      },
      "outputs": [],
      "source": [
        "len(set(adata.obs.index) & set(ann_selected.index))"
      ]
    },
    {
      "cell_type": "code",
      "execution_count": null,
      "id": "06c9fbfa-589e-46b9-833b-b329b70e4238",
      "metadata": {
        "id": "06c9fbfa-589e-46b9-833b-b329b70e4238"
      },
      "outputs": [],
      "source": [
        "adata.obs.index.value_counts()"
      ]
    },
    {
      "cell_type": "markdown",
      "id": "5b574489-413c-4def-b4e2-eab3d7c1ff3c",
      "metadata": {
        "id": "5b574489-413c-4def-b4e2-eab3d7c1ff3c"
      },
      "source": [
        "As we can see, all cells from annotation can be found in raw data. And all the barcode identifiers are unique. "
      ]
    },
    {
      "cell_type": "markdown",
      "id": "61c684ba-f515-43d4-9703-97f4d4916be1",
      "metadata": {
        "id": "61c684ba-f515-43d4-9703-97f4d4916be1"
      },
      "source": [
        "I'll do analysis for annotated cells (the cells researchers actually analyzed in this part of study)"
      ]
    },
    {
      "cell_type": "code",
      "execution_count": null,
      "id": "07776cae-2367-49f0-bc17-45762ce18e14",
      "metadata": {
        "id": "07776cae-2367-49f0-bc17-45762ce18e14"
      },
      "outputs": [],
      "source": [
        "adata = adata[ann_selected.index]"
      ]
    },
    {
      "cell_type": "markdown",
      "id": "f73137f6-35d1-4ab4-be05-0f000879702c",
      "metadata": {
        "id": "f73137f6-35d1-4ab4-be05-0f000879702c"
      },
      "source": [
        "The dataset and the annotation are ready for the analysis"
      ]
    },
    {
      "cell_type": "markdown",
      "id": "d8518b05-ae65-4b3b-a655-789022d7e3aa",
      "metadata": {
        "id": "d8518b05-ae65-4b3b-a655-789022d7e3aa"
      },
      "source": [
        "# Quality Control"
      ]
    },
    {
      "cell_type": "code",
      "execution_count": null,
      "id": "043d7451-7d6c-4b13-a839-075cab47296f",
      "metadata": {
        "id": "043d7451-7d6c-4b13-a839-075cab47296f"
      },
      "outputs": [],
      "source": [
        "adata.var[\"mt\"] = adata.var_names.str.startswith(\"MT-\") #labeling mitochondrial genes\n",
        "adata.var.sample(2)"
      ]
    },
    {
      "cell_type": "code",
      "execution_count": null,
      "id": "0fd64aa5-e26f-4dec-8409-77cc45091bed",
      "metadata": {
        "id": "0fd64aa5-e26f-4dec-8409-77cc45091bed"
      },
      "outputs": [],
      "source": [
        "#doing quality control\n",
        "sc.pp.calculate_qc_metrics(adata, qc_vars=[\"mt\"], percent_top=None, log1p=False, inplace=True)\n",
        "adata.obs.head()"
      ]
    },
    {
      "cell_type": "code",
      "execution_count": null,
      "id": "81dbd612-9df1-470e-9946-ffe77b341ab7",
      "metadata": {
        "id": "81dbd612-9df1-470e-9946-ffe77b341ab7"
      },
      "outputs": [],
      "source": [
        "#starting from here and thereafter some cells are copied from seminar's notebook\n",
        "\n",
        "def pic():\n",
        "    warnings.filterwarnings(\"ignore\")\n",
        "\n",
        "    fig, axes = plt.subplots(ncols=3, nrows=1, figsize=(16, 4))\n",
        "\n",
        "    # Отрисовываем распределение общего числа UMI\n",
        "    sns.distplot(adata.obs[\"total_counts\"], kde=False, ax=axes[0], hist_kws={\"alpha\":1})\n",
        "    axes[0].set_xlabel(\"Число UMI на клетку\")\n",
        "    axes[0].set_ylabel(\"Число клеток\")\n",
        "    axes[0].set_title(\"UMI на клетку\")\n",
        "    axes[0].grid(alpha=0.3)\n",
        "\n",
        "    # Отрисовываем распределение числа генов по клеткам\n",
        "    sns.distplot(adata.obs[\"n_genes_by_counts\"], kde=False, ax=axes[1], hist_kws={\"alpha\":1})\n",
        "    axes[1].set_xlabel(\"Число генов, экспрессирующихся в клетке\")\n",
        "    axes[1].set_ylabel(\"Число клеток\")\n",
        "    axes[1].set_title(\"генов, экспрессирующихся в клетке\")\n",
        "    axes[1].grid(alpha=0.3)\n",
        "\n",
        "    # Отрисовываем распределение митохондриальной экспрессии\n",
        "    sns.distplot(adata.obs[\"pct_counts_mt\"], kde=False, ax=axes[2], hist_kws={\"alpha\":1})\n",
        "    axes[2].set_xlabel(\"%mt экспрессии в клетке\")\n",
        "    axes[2].set_ylabel(\"Число клеток\")\n",
        "    axes[2].set_title(\"процент митохондриальной экспрессии\")\n",
        "    axes[2].grid(alpha=0.3)\n",
        "\n",
        "    fig.tight_layout()\n",
        "\n",
        "    warnings.filterwarnings('default')\n",
        "pic()"
      ]
    },
    {
      "cell_type": "markdown",
      "id": "beed2258-6c5b-4cb4-a0bc-fe603c0753f5",
      "metadata": {
        "id": "beed2258-6c5b-4cb4-a0bc-fe603c0753f5"
      },
      "source": [
        "The data is far from perfect. We will have to do filtering."
      ]
    },
    {
      "cell_type": "code",
      "execution_count": null,
      "id": "9d116c8f-65a4-4422-a3a6-9645c29a9038",
      "metadata": {
        "id": "9d116c8f-65a4-4422-a3a6-9645c29a9038"
      },
      "outputs": [],
      "source": [
        "#on the graph below one can see that UMI is already filtered, so the plots will be the same\n",
        "adata = adata[adata.obs.total_counts >= 100] #minimal counts filter\n",
        "pic()"
      ]
    },
    {
      "cell_type": "code",
      "execution_count": null,
      "id": "1c147d85-2bb7-4d45-a903-7db918c4fdec",
      "metadata": {
        "id": "1c147d85-2bb7-4d45-a903-7db918c4fdec"
      },
      "outputs": [],
      "source": [
        "adata = adata[adata.obs.n_genes_by_counts >= 500] # filtering by number of genes\n",
        "adata = adata[adata.obs.pct_counts_mt <= 20] # max mt content filter\n",
        "#looks like researchers usde the wary same threshold and even stricter for mt (mt < 10)\n",
        "pic()"
      ]
    },
    {
      "cell_type": "markdown",
      "id": "954f6fe1-3ca6-4a91-a7ae-f98c05da4456",
      "metadata": {
        "id": "954f6fe1-3ca6-4a91-a7ae-f98c05da4456"
      },
      "source": [
        "Still looks noisy but not sure how to separate them better"
      ]
    },
    {
      "cell_type": "markdown",
      "id": "5735d4dc-926c-4f45-806e-1ddc706f3844",
      "metadata": {
        "id": "5735d4dc-926c-4f45-806e-1ddc706f3844"
      },
      "source": [
        "Now, filtering by dublets"
      ]
    },
    {
      "cell_type": "code",
      "source": [
        "!pip install scrublet"
      ],
      "metadata": {
        "id": "ukEyqTLkeXe7"
      },
      "id": "ukEyqTLkeXe7",
      "execution_count": null,
      "outputs": []
    },
    {
      "cell_type": "code",
      "execution_count": null,
      "id": "2d393924-4f23-4305-b677-03d7d80c15a4",
      "metadata": {
        "id": "2d393924-4f23-4305-b677-03d7d80c15a4"
      },
      "outputs": [],
      "source": [
        "sce.pp.scrublet(adata)"
      ]
    },
    {
      "cell_type": "markdown",
      "id": "29def65e-707c-4711-8ba4-c047b9291f61",
      "metadata": {
        "id": "29def65e-707c-4711-8ba4-c047b9291f61"
      },
      "source": [
        "Very few were filtered out"
      ]
    },
    {
      "cell_type": "code",
      "execution_count": null,
      "id": "4e535770-9913-4c18-ae98-0c65c69534b0",
      "metadata": {
        "id": "4e535770-9913-4c18-ae98-0c65c69534b0"
      },
      "outputs": [],
      "source": [
        "adata = adata[~adata.obs.predicted_doublet]\n",
        "print(adata)"
      ]
    },
    {
      "cell_type": "markdown",
      "id": "2236a1b4-1ff8-4e32-b861-d1ef059da23a",
      "metadata": {
        "id": "2236a1b4-1ff8-4e32-b861-d1ef059da23a"
      },
      "source": [
        "Now, checking variation"
      ]
    },
    {
      "cell_type": "code",
      "execution_count": null,
      "id": "83027920-63e2-4192-b504-169e394e4402",
      "metadata": {
        "id": "83027920-63e2-4192-b504-169e394e4402"
      },
      "outputs": [],
      "source": [
        "adata.layers[\"counts\"] = adata.X.copy()"
      ]
    },
    {
      "cell_type": "raw",
      "id": "a14d019c-d9ad-47f7-86f2-df3e53f966f9",
      "metadata": {
        "id": "a14d019c-d9ad-47f7-86f2-df3e53f966f9"
      },
      "source": []
    },
    {
      "cell_type": "code",
      "execution_count": null,
      "id": "1efaf5b0-e2dd-43d5-a835-38cad5b2f7ac",
      "metadata": {
        "id": "1efaf5b0-e2dd-43d5-a835-38cad5b2f7ac"
      },
      "outputs": [],
      "source": [
        "variance = np.var(adata.layers[\"counts\"].A, axis=0)\n",
        "mean = np.mean(adata.layers[\"counts\"].A, axis=0)\n",
        "\n",
        "mean = mean[variance > 0]\n",
        "variance = variance[variance > 0]\n",
        "\n",
        "mean = np.asarray(mean).reshape(-1)\n",
        "variance = np.asarray(variance).reshape(-1)\n",
        "\n",
        "fig, ax = plt.subplots(dpi=150, figsize=(5, 5))\n",
        "\n",
        "sns.scatterplot(x=mean, y=variance, linewidth=0, s=3, color=\"blue\", ax=ax)\n",
        "ax.set_xlabel(\"Среднее экспрессии гена\"); ax.set_ylabel(\"Дисперсия экспрессии гена\")\n",
        "ax.set_xscale(\"log\"); ax.set_yscale(\"log\")\n",
        "ax.set_xlim(0.00001, 10000); ax.set_ylim(0.00001, 10000)\n",
        "\n",
        "ax.grid(alpha=0.3)"
      ]
    },
    {
      "cell_type": "markdown",
      "id": "7193ee14-d284-43ac-aa1b-8fb233a07c4a",
      "metadata": {
        "id": "7193ee14-d284-43ac-aa1b-8fb233a07c4a"
      },
      "source": [
        "Some outliers can be observed in form of 'tail' above the main curve "
      ]
    },
    {
      "cell_type": "code",
      "execution_count": null,
      "id": "a5120b8e-eb71-426a-931d-5da6dfaf2647",
      "metadata": {
        "id": "a5120b8e-eb71-426a-931d-5da6dfaf2647"
      },
      "outputs": [],
      "source": [
        "#copying adata for future use\n",
        "adata_preint = adata.copy() #adata preintegrated"
      ]
    },
    {
      "cell_type": "markdown",
      "id": "f9f31548-ea73-47d4-b414-54a10f4a3f7b",
      "metadata": {
        "id": "f9f31548-ea73-47d4-b414-54a10f4a3f7b"
      },
      "source": [
        "# log1p and umap"
      ]
    },
    {
      "cell_type": "code",
      "execution_count": null,
      "id": "ab29a8f8-c142-4733-91be-1bd2fd891169",
      "metadata": {
        "id": "ab29a8f8-c142-4733-91be-1bd2fd891169"
      },
      "outputs": [],
      "source": [
        "print(\"Суммы UMI на клетку до нормировки:\", adata.X.sum(axis=1).T)\n",
        "\n",
        "sc.pp.normalize_total(adata)\n",
        "print(\"Суммы UMI на клетку после нормировки:\", adata.X.sum(axis=1).T)"
      ]
    },
    {
      "cell_type": "code",
      "execution_count": null,
      "id": "e729ccfc-35dc-4810-a220-3cfbe583d04e",
      "metadata": {
        "id": "e729ccfc-35dc-4810-a220-3cfbe583d04e"
      },
      "outputs": [],
      "source": [
        "sc.pp.log1p(adata) "
      ]
    },
    {
      "cell_type": "code",
      "execution_count": null,
      "id": "da8969e9-d959-423f-bba2-8d547fc6ed64",
      "metadata": {
        "id": "da8969e9-d959-423f-bba2-8d547fc6ed64"
      },
      "outputs": [],
      "source": [
        "#finding highly variable genes\n",
        "sc.pp.highly_variable_genes(\n",
        "    adata,\n",
        "    n_top_genes=3000,\n",
        "    layer=\"counts\",\n",
        "    flavor=\"seurat_v3\",\n",
        ")"
      ]
    },
    {
      "cell_type": "code",
      "execution_count": null,
      "id": "f5b5e9ee-984f-4499-9aec-f416dd46501e",
      "metadata": {
        "id": "f5b5e9ee-984f-4499-9aec-f416dd46501e"
      },
      "outputs": [],
      "source": [
        "adata.var.sample(4)"
      ]
    },
    {
      "cell_type": "code",
      "execution_count": null,
      "id": "40380d22-ded1-49ac-af86-9e79c1101a94",
      "metadata": {
        "id": "40380d22-ded1-49ac-af86-9e79c1101a94"
      },
      "outputs": [],
      "source": [
        "adata.raw = adata #snapshot of a data at current time\n",
        "adata = adata[:, adata.var.highly_variable] # leaving only HVG in current analysis\n",
        "print(adata)"
      ]
    },
    {
      "cell_type": "markdown",
      "id": "3d2c5733-a67b-46b3-863b-65ab0b626727",
      "metadata": {
        "id": "3d2c5733-a67b-46b3-863b-65ab0b626727"
      },
      "source": [
        "Next, scaling the data to control the dispersion"
      ]
    },
    {
      "cell_type": "code",
      "execution_count": null,
      "id": "72a1dc28-add5-4749-b6bc-4ed8082cb74e",
      "metadata": {
        "id": "72a1dc28-add5-4749-b6bc-4ed8082cb74e"
      },
      "outputs": [],
      "source": [
        "#Showing exression after log-transformation\n",
        "variance = np.var(adata.raw.X.todense(), axis=0)\n",
        "mean = np.mean(adata.raw.X.todense(), axis=0)\n",
        "\n",
        "mean = mean[variance > 0]\n",
        "variance = variance[variance > 0]\n",
        "\n",
        "mean = np.squeeze(np.asarray(mean))\n",
        "variance = np.squeeze(np.asarray(variance))\n",
        "\n",
        "fig, ax = plt.subplots(dpi=150, figsize=(5, 5))\n",
        "\n",
        "sns.scatterplot(x=mean, y=variance, linewidth=0, s=3, color=\"blue\", ax=ax)\n",
        "ax.set_xlabel(\"Среднее экспрессии гена (LogNormalize)\"); ax.set_ylabel(\"Дисперсия экспрессии гена (LogNormalize)\")\n",
        "ax.set_xscale(\"log\")\n",
        "ax.set_yscale(\"log\")\n",
        "ax.set_xlim(0.000001, 10000); ax.set_ylim(0.000001, 10000)\n",
        "\n",
        "ax.grid(alpha=0.3)"
      ]
    },
    {
      "cell_type": "markdown",
      "id": "fa336bce-cf8e-4294-a0c9-46b7206ac82e",
      "metadata": {
        "id": "fa336bce-cf8e-4294-a0c9-46b7206ac82e"
      },
      "source": []
    },
    {
      "cell_type": "markdown",
      "id": "640fbee5-9ce2-4db0-b5aa-613d72caaa13",
      "metadata": {
        "id": "640fbee5-9ce2-4db0-b5aa-613d72caaa13"
      },
      "source": [
        "Scaling. Comparing expressions before and after the scaling"
      ]
    },
    {
      "cell_type": "code",
      "execution_count": null,
      "id": "564e8570-16ab-4cfb-a363-fe40889f9f5f",
      "metadata": {
        "id": "564e8570-16ab-4cfb-a363-fe40889f9f5f"
      },
      "outputs": [],
      "source": [
        "warnings.filterwarnings('ignore')\n",
        "    \n",
        "sc.pp.scale(adata) # Шкалирование\n",
        "\n",
        "fig, axs = plt.subplots(ncols=2, nrows=1, figsize=(22, 4)) # Создаём сетку, чтобы отрисовать два графика\n",
        "\n",
        "# Отрисовываем распределение экспрессии гена CD3E на нешкалированных данных\n",
        "sns.distplot(adata.raw[:, \"PLD1\"].X.todense(), kde=False, ax=axs[0], hist_kws={\"alpha\":1})\n",
        "axs[0].set_xlabel(\"Экспрессия гена PLD1\")\n",
        "axs[0].set_ylabel(\"Число клеток\")\n",
        "axs[0].set_title(\"Распределение экспрессии PLD1 (данные не шкалировались)\")\n",
        "axs[0].set_yscale(\"log\")\n",
        "\n",
        "# Отрисовываем распределение экспрессии гена CD3E на нешкалированных данных\n",
        "sns.distplot(adata[:, \"PLD1\"].X, kde=False, ax=axs[1], hist_kws={\"alpha\":1})\n",
        "axs[1].set_xlabel(\"Экспрессия гена PLD1\")\n",
        "axs[1].set_ylabel(\"Число клеток\")\n",
        "axs[1].set_title(\"Распределение экспрессии PLD1 (данные шкалировались)\")\n",
        "axs[1].set_yscale(\"log\")\n",
        "\n",
        "warnings.filterwarnings('default')"
      ]
    },
    {
      "cell_type": "markdown",
      "id": "e15a1d1d-f38c-4942-bc6d-151f6dbf86a5",
      "metadata": {
        "id": "e15a1d1d-f38c-4942-bc6d-151f6dbf86a5"
      },
      "source": [
        "# Dimensionality reduction, visualization, clustering"
      ]
    },
    {
      "cell_type": "code",
      "execution_count": null,
      "id": "12d48fde-d7bd-47d0-aadc-ed967101c05c",
      "metadata": {
        "id": "12d48fde-d7bd-47d0-aadc-ed967101c05c"
      },
      "outputs": [],
      "source": [
        "#compute and draw pca\n",
        "sc.tl.pca(adata)\n",
        "sc.pl.pca(adata, frameon=False)"
      ]
    },
    {
      "cell_type": "code",
      "execution_count": null,
      "id": "a6a6a992-726b-47f0-b18d-911ed20a8e40",
      "metadata": {
        "id": "a6a6a992-726b-47f0-b18d-911ed20a8e40"
      },
      "outputs": [],
      "source": [
        "#pca by genes\n",
        "sc.pl.pca(adata, color=[\"CD3E\", \"CD4\", \"MS4A1\"], frameon=False)"
      ]
    },
    {
      "cell_type": "code",
      "execution_count": null,
      "id": "022a10c4-0c62-4f5f-8581-d086a6063f3c",
      "metadata": {
        "id": "022a10c4-0c62-4f5f-8581-d086a6063f3c"
      },
      "outputs": [],
      "source": []
    },
    {
      "cell_type": "code",
      "execution_count": null,
      "id": "09e25f8c-32f7-45ae-8916-2c2154ec3ea0",
      "metadata": {
        "id": "09e25f8c-32f7-45ae-8916-2c2154ec3ea0"
      },
      "outputs": [],
      "source": [
        "#elbow plot\n",
        "sc.pl.pca_variance_ratio(adata, log=True, n_pcs=25)"
      ]
    },
    {
      "cell_type": "markdown",
      "id": "b0817b87-2a5c-441f-ae37-0ce70db2720f",
      "metadata": {
        "id": "b0817b87-2a5c-441f-ae37-0ce70db2720f"
      },
      "source": [
        "16 components to use"
      ]
    },
    {
      "cell_type": "code",
      "execution_count": null,
      "id": "011185c4-0ebe-423d-8d74-478a088b7720",
      "metadata": {
        "id": "011185c4-0ebe-423d-8d74-478a088b7720"
      },
      "outputs": [],
      "source": [
        "#t-SNE and UMAP on graph\n",
        "sc.pp.neighbors(adata, n_pcs=16, n_neighbors=20)\n",
        "sc.tl.umap(adata, min_dist=0.5)\n",
        "sc.tl.tsne(adata, n_pcs=15) "
      ]
    },
    {
      "cell_type": "code",
      "execution_count": null,
      "id": "7f056b38-a9d4-4fdb-9ea9-49e24bb53df7",
      "metadata": {
        "id": "7f056b38-a9d4-4fdb-9ea9-49e24bb53df7"
      },
      "outputs": [],
      "source": [
        "fig, axs = plt.subplots(ncols=2, nrows=1, figsize=(8, 4))\n",
        "sc.pl.umap(adata, frameon=False, ax=axs[0], title=\"UMAP\", show=False)\n",
        "sc.pl.tsne(adata, frameon=False, ax=axs[1], title=\"t-SNE\", show=False)"
      ]
    },
    {
      "cell_type": "code",
      "execution_count": null,
      "id": "545ad870-df60-4490-a253-b2e780025f4c",
      "metadata": {
        "id": "545ad870-df60-4490-a253-b2e780025f4c"
      },
      "outputs": [],
      "source": []
    },
    {
      "cell_type": "code",
      "execution_count": null,
      "id": "8b4fb5fb-858e-4e69-8838-69ce85cdffad",
      "metadata": {
        "id": "8b4fb5fb-858e-4e69-8838-69ce85cdffad"
      },
      "outputs": [],
      "source": [
        "#Leiden clustering https://www.nature.com/articles/s41598-019-41695-z\n",
        "sc.tl.leiden(adata)"
      ]
    },
    {
      "cell_type": "code",
      "execution_count": null,
      "id": "b728d348-75b5-4ac7-83be-4626c8bd3874",
      "metadata": {
        "id": "b728d348-75b5-4ac7-83be-4626c8bd3874"
      },
      "outputs": [],
      "source": [
        "fig, axs = plt.subplots(ncols=2, nrows=1, figsize=(7, 4))\n",
        "sc.pl.umap(adata, color=\"leiden\", frameon=False, ax=axs[0], title=\"UMAP\", show=False, legend_loc=None, s=3) # Отрисовываем UMAP\n",
        "sc.pl.tsne(adata, color=\"leiden\", frameon=False, ax=axs[1], title=\"t-SNE\", show=False, s=3) # Отрисовываем t-SNE"
      ]
    },
    {
      "cell_type": "code",
      "execution_count": null,
      "id": "221129b1-3a0f-4ad7-bcc9-0129740b7be5",
      "metadata": {
        "id": "221129b1-3a0f-4ad7-bcc9-0129740b7be5"
      },
      "outputs": [],
      "source": []
    },
    {
      "cell_type": "code",
      "execution_count": null,
      "id": "3d410f68-c3f5-46cd-a0f9-d67297a220e6",
      "metadata": {
        "id": "3d410f68-c3f5-46cd-a0f9-d67297a220e6"
      },
      "outputs": [],
      "source": [
        "sc.pl.umap(adata, color=[\"total_counts\", \"n_genes_by_counts\", \"pct_counts_mt\"], vmax=[10000, 3000, 20])"
      ]
    },
    {
      "cell_type": "markdown",
      "id": "9410b9c4-3b02-471a-82c4-835e2d8a14ef",
      "metadata": {
        "id": "9410b9c4-3b02-471a-82c4-835e2d8a14ef"
      },
      "source": [
        "Let's compare my clusters and clusters of researchers visually"
      ]
    },
    {
      "cell_type": "code",
      "execution_count": null,
      "id": "cea1b11b-3e86-4bff-89bb-181462459491",
      "metadata": {
        "id": "cea1b11b-3e86-4bff-89bb-181462459491"
      },
      "outputs": [],
      "source": [
        "adata.obs['seurat_clusters'] = ann_selected['seurat_clusters'].astype('category')"
      ]
    },
    {
      "cell_type": "code",
      "execution_count": null,
      "id": "b52f3ae3-694d-4c53-acd9-c0d43ec08ac7",
      "metadata": {
        "id": "b52f3ae3-694d-4c53-acd9-c0d43ec08ac7"
      },
      "outputs": [],
      "source": [
        "fig, axs = plt.subplots(ncols=2, nrows=1, figsize=(7, 4))\n",
        "sc.pl.umap(adata, color=\"leiden\", frameon=False, ax=axs[0], title=\"UMAP\", show=False, legend_loc=None, s=3) # Отрисовываем UMAP\n",
        "sc.pl.tsne(adata, color=\"leiden\", frameon=False, ax=axs[1], title=\"t-SNE\", show=False, s=3) # Отрисовываем t-SNE\n",
        "\n",
        "fig, axs = plt.subplots(ncols=2, nrows=1, figsize=(7, 4))\n",
        "sc.pl.umap(adata, color='seurat_clusters', frameon=False, ax=axs[0], title=\"UMAP (their labels)\", show=False, legend_loc=None, s=3) # Отрисовываем UMAP\n",
        "sc.pl.tsne(adata, color='seurat_clusters', frameon=False, ax=axs[1], title=\"t-SNE (their labels)\", show=False, s=3) # Отрисовываем t-SNE"
      ]
    },
    {
      "cell_type": "markdown",
      "id": "4bb0e5ea-1694-4d16-8ea4-03f998dd3c6d",
      "metadata": {
        "id": "4bb0e5ea-1694-4d16-8ea4-03f998dd3c6d"
      },
      "source": [
        "Let's compare my clusters to the clusters of researchers using confusion matrix"
      ]
    },
    {
      "cell_type": "code",
      "execution_count": null,
      "id": "3fbd9e04-604b-4445-99c3-2baeb5793cba",
      "metadata": {
        "id": "3fbd9e04-604b-4445-99c3-2baeb5793cba"
      },
      "outputs": [],
      "source": [
        "adata.obs"
      ]
    },
    {
      "cell_type": "code",
      "execution_count": null,
      "id": "e0b4caae-e363-4323-9a1b-1f01a6b44037",
      "metadata": {
        "id": "e0b4caae-e363-4323-9a1b-1f01a6b44037"
      },
      "outputs": [],
      "source": []
    },
    {
      "cell_type": "code",
      "execution_count": null,
      "id": "7f7e60d2-e2e6-420e-b021-2692ce780f4e",
      "metadata": {
        "id": "7f7e60d2-e2e6-420e-b021-2692ce780f4e"
      },
      "outputs": [],
      "source": [
        "df_heatmap = pd.DataFrame({'leiden': adata.obs['leiden'].astype('int'),\n",
        "                           'seurat_clusters':ann_selected.loc[adata.obs.index]['seurat_clusters'].astype('int')},\n",
        "                          index = adata.obs.index)"
      ]
    },
    {
      "cell_type": "code",
      "execution_count": null,
      "id": "c54a79bb-4a19-40fa-9e4f-0c17c9c2b62d",
      "metadata": {
        "id": "c54a79bb-4a19-40fa-9e4f-0c17c9c2b62d"
      },
      "outputs": [],
      "source": [
        "pd.set_option('display.max_columns', 25)\n",
        "def confusion_matrix(df: pd.DataFrame, col1: str, col2: str): #https://gist.github.com/Mlawrence95/f697aa939592fa3ef465c05821e1deed\n",
        "    return (\n",
        "            df\n",
        "            .groupby([col1, col2])\n",
        "            .size()\n",
        "            .unstack(fill_value=0)\n",
        "            )"
      ]
    },
    {
      "cell_type": "code",
      "execution_count": null,
      "id": "8435bf88-854c-4826-b4f6-39fcc5ce0384",
      "metadata": {
        "id": "8435bf88-854c-4826-b4f6-39fcc5ce0384"
      },
      "outputs": [],
      "source": [
        "cf_matrix = confusion_matrix(df_heatmap, 'leiden', 'seurat_clusters')\n",
        "cf_matrix"
      ]
    },
    {
      "cell_type": "markdown",
      "id": "27d1f051-629c-4007-af23-797fee04b4c1",
      "metadata": {
        "id": "27d1f051-629c-4007-af23-797fee04b4c1"
      },
      "source": [
        "As one can see, there is some difference in clustering, even though there is a lot of similarity. Now trying to identify cell types and compare them to original cell types."
      ]
    },
    {
      "cell_type": "code",
      "execution_count": null,
      "id": "f50c0016-5a3e-4c1e-80fb-b44a351cacdf",
      "metadata": {
        "id": "f50c0016-5a3e-4c1e-80fb-b44a351cacdf"
      },
      "outputs": [],
      "source": []
    },
    {
      "cell_type": "markdown",
      "id": "26b2a03e-520f-4046-af7c-174e3221f2e6",
      "metadata": {
        "id": "26b2a03e-520f-4046-af7c-174e3221f2e6"
      },
      "source": [
        "# Determining cell's populations"
      ]
    },
    {
      "cell_type": "code",
      "execution_count": null,
      "id": "dde4f149-8e1f-44c8-8139-6aa00b03f212",
      "metadata": {
        "id": "dde4f149-8e1f-44c8-8139-6aa00b03f212"
      },
      "outputs": [],
      "source": [
        "warnings.filterwarnings('ignore')\n",
        "sc.tl.rank_genes_groups(adata, \"leiden\", method=\"wilcoxon\")\n",
        "sc.pl.rank_genes_groups(adata, n_genes=15, sharey=False, ncols=5)\n",
        "warnings.filterwarnings('default')"
      ]
    },
    {
      "cell_type": "code",
      "execution_count": null,
      "id": "9ca8b8e7-4004-477f-ab66-338470ec0034",
      "metadata": {
        "id": "9ca8b8e7-4004-477f-ab66-338470ec0034"
      },
      "outputs": [],
      "source": [
        "sc.pl.rank_genes_groups_dotplot(\n",
        "    adata,\n",
        "    n_genes=2, \n",
        "    vmin=-2,\n",
        "    vmax=2,\n",
        "    cmap=\"coolwarm\",\n",
        ")"
      ]
    },
    {
      "cell_type": "code",
      "execution_count": null,
      "id": "6f834324-f104-4e8b-938b-dbeccbd41b24",
      "metadata": {
        "id": "6f834324-f104-4e8b-938b-dbeccbd41b24"
      },
      "outputs": [],
      "source": [
        "sc.pl.umap(adata, color=[\"CD3E\", \"CD4\", \"CD8A\", \"leiden\"], frameon=False)"
      ]
    },
    {
      "cell_type": "code",
      "execution_count": null,
      "id": "e0321487-6a78-4c41-b51c-364b46c941a5",
      "metadata": {
        "id": "e0321487-6a78-4c41-b51c-364b46c941a5"
      },
      "outputs": [],
      "source": [
        "marker_genes_dict = {\n",
        "    \"T-cells\" : [\"CD3E\", \"CD4\", \"CD8A\"],\n",
        "    \"Naive T-cells\" : [\"CCR7\", \"SELL\", \"COTL1\"],\n",
        "    \"Memory CD4+ T-cells\" : [\"ITGB1\", \"LGALS1\"],\n",
        "    \"Cytotoxic T-cells\" : [\"CCL5\", \"GZMA\"],\n",
        "    \"MAIT T-cells\" : [\"KLRB1\", \"SLC4A10\"],\n",
        "    \"NK cells\" : [\"GNLY\", \"GZMB\", \"NCAM1\"],\n",
        "    \"Progenitor cells\" : [\"CD34\"],\n",
        "    \"Erythrocytes\" : [\"HBA1\", \"HBB\"],\n",
        "    \"Monocytes\": [\"LYZ\", \"CD14\", \"FCGR3A\"],\n",
        "    \"cDC1\" : [\"C1orf54\", \"CLEC9A\"],\n",
        "    \"cDC2\" : [\"ENHO\", \"CD1C\"],\n",
        "    \"pDC\" : [\"TCF4\", \"ITM2C\", \"IRF7\"],\n",
        "    \"B-cells\" : [\"MS4A1\"]\n",
        "}\n",
        "\n",
        "adata_scaled = adata.raw.to_adata().copy()\n",
        "adata_scaled.layers[\"scaled\"] = sc.pp.scale(adata_scaled, copy=True).X\n",
        "sc.pl.dotplot(adata_scaled, marker_genes_dict, \"leiden\", layer=\"scaled\", dendrogram=True,\n",
        "              vmin=-1, vmax=1, cmap=\"coolwarm\", colorbar_title=\"Mean Z-score\", dot_max=0.8)"
      ]
    },
    {
      "cell_type": "code",
      "execution_count": null,
      "id": "48f23744-42c8-4e95-9e3c-0c1b4628db2f",
      "metadata": {
        "id": "48f23744-42c8-4e95-9e3c-0c1b4628db2f"
      },
      "outputs": [],
      "source": [
        "#sadly, the clustering changes everytime so the dictionary most probably\n",
        "#will not relate to the clustering which we have now\n",
        "#therefore I also inserted the picture of celltype assignment done before\n",
        "\n",
        "#assigning cells based on the picture above is way too much arbitrary\n",
        "#but let's assume they are distributed this way\n",
        "leiden_to_ct = {\n",
        "    \"0\" : \"T-cells\",\n",
        "    \"1\" : \"Monocytes\",   \n",
        "    \"2\" : \"Memory CD4+ T-cells\",    \n",
        "    \"3\" : \"Memory CD4+ T-cells\",    \n",
        "    \"4\" : \"Monocytes\",    \n",
        "    \"5\" : \"Cytotoxic T-cells\",#\n",
        "    \"6\" : \"T-cells\", \n",
        "    \"7\" : \"pDC\",   #c\n",
        "    \"8\" : \"Monocytes\",   #c\n",
        "    \"9\" : \"Naive T-cells\",\n",
        "    \"10\" : \"Naive T-cells\",   #\n",
        "    \"11\" : \"Memory CD4+ T-cells\",  \n",
        "    \"12\" : \"NK cells\",  \n",
        "    \"13\" : \"B-cells\", #c\n",
        "    \"14\" : \"NK cells\",    \n",
        "    \"15\" : \"cdc1\",\n",
        "    \"16\" : \"Memory CD4+ T-cells\",   \n",
        "    \"17\" : \"Naive T-cells\", # \n",
        "    \"18\" : \"Monocytes\",  \n",
        "    \"19\" : \"pDC\" #c\n",
        "}\n",
        "\n",
        "adata.obs[\"cell_type\"] = [leiden_to_ct[x] for x in adata.obs.leiden]\n",
        "sc.pl.umap(adata, color=\"cell_type\", frameon=False, title=\"Cell type\")"
      ]
    },
    {
      "cell_type": "code",
      "source": [
        "#cell assignemnt done in a previous run of notebook\n",
        "Image('001.png')"
      ],
      "metadata": {
        "id": "bJSRjMI-TOUH"
      },
      "id": "bJSRjMI-TOUH",
      "execution_count": null,
      "outputs": []
    },
    {
      "cell_type": "markdown",
      "id": "ebe3613d-a266-4baf-8465-09df31d1f6d2",
      "metadata": {
        "id": "ebe3613d-a266-4baf-8465-09df31d1f6d2"
      },
      "source": [
        "Looks very unnatural which was to be expected since assignment was very arbitrary"
      ]
    },
    {
      "cell_type": "code",
      "execution_count": null,
      "id": "6b25ce85-467c-492f-9d96-7ab78eac2e75",
      "metadata": {
        "id": "6b25ce85-467c-492f-9d96-7ab78eac2e75"
      },
      "outputs": [],
      "source": [
        "Image('002.png')"
      ]
    },
    {
      "cell_type": "markdown",
      "id": "5c4c8f59-a722-4164-b752-5e2dde13f50f",
      "metadata": {
        "id": "5c4c8f59-a722-4164-b752-5e2dde13f50f"
      },
      "source": [
        "Clustering from researches looks very different. Only B-cells look somewhat similar"
      ]
    },
    {
      "cell_type": "markdown",
      "id": "06d24c0f-cdc0-4646-9cf1-9468516f50f3",
      "metadata": {
        "id": "06d24c0f-cdc0-4646-9cf1-9468516f50f3"
      },
      "source": [
        "Предсказание типов клеток с помощью пакетов"
      ]
    },
    {
      "cell_type": "code",
      "execution_count": null,
      "id": "ed81fbb0-9e95-45ac-a45c-6a1211f3d05b",
      "metadata": {
        "id": "ed81fbb0-9e95-45ac-a45c-6a1211f3d05b"
      },
      "outputs": [],
      "source": [
        "adata_raw = sc.read_h5ad('combined_adata') # Загружаем сырую матрицу каунтов заново\n",
        "#adata_raw = adata.copy()\n",
        "adata_raw = adata_raw[ann_selected.index]\n",
        "adata_raw.write_h5ad(\"PBMC_counts.h5ad\") # Записываем её в виде объекта .h5ad\n",
        "del adata_raw # Удаляем объект из памяти\n",
        "\n",
        "#5114"
      ]
    },
    {
      "cell_type": "code",
      "execution_count": null,
      "id": "0cbea2c7-2a5d-442c-a58d-db59d98ca482",
      "metadata": {
        "id": "0cbea2c7-2a5d-442c-a58d-db59d98ca482"
      },
      "outputs": [],
      "source": [
        "annotation = pd.read_csv(\"azimuth_pred.tsv\", sep=\"\\t\", index_col=0)\n",
        "for column in annotation:\n",
        "    adata.obs[column] = annotation[column]\n",
        "   # adata_sct.obs[column] = annotation[column]\n",
        "    \n",
        "sc.pl.umap(adata, color=[\"predicted.celltype.l2.score\", \"predicted.celltype.l2\"],\n",
        "           frameon=False, title=[\"Prediction score (Level 2)\", \"Predicted cell type (Level 2)\"])"
      ]
    },
    {
      "cell_type": "markdown",
      "id": "0cf30413-c291-4a23-a5df-335f9fb63a53",
      "metadata": {
        "id": "0cf30413-c291-4a23-a5df-335f9fb63a53"
      },
      "source": [
        "It looks much more plausible compared to the assignment done by hand previously. But still not much resablence to the picture the researchers have got"
      ]
    },
    {
      "cell_type": "markdown",
      "id": "69365a75-5186-4b60-b593-c38b08d4e436",
      "metadata": {
        "id": "69365a75-5186-4b60-b593-c38b08d4e436"
      },
      "source": [
        "# Metrics calculation"
      ]
    },
    {
      "cell_type": "markdown",
      "id": "e0960c23-c946-4bf5-bfa7-33284918ec74",
      "metadata": {
        "id": "e0960c23-c946-4bf5-bfa7-33284918ec74"
      },
      "source": [
        "In the article they use many different metrics which judge both integration and how well biological information is preserved. Then they calculate the aggregate function. We can't do that because there is only one batch and we don't have much information, but some metrics can be quickly calculated."
      ]
    },
    {
      "cell_type": "code",
      "execution_count": null,
      "id": "d5f756a9-aa95-4536-bc0a-e5040d20b2a0",
      "metadata": {
        "id": "d5f756a9-aa95-4536-bc0a-e5040d20b2a0"
      },
      "outputs": [],
      "source": [
        "#tinkering to make the wrapper metrics calculation function work\n",
        "adata.obs['batch'] = 1\n",
        "adata.obs['batch'] =  adata.obs['batch'].astype('category')\n",
        "adata_preint.obs['batch'] = 1\n",
        "adata_preint.obs['batch'] =  adata_preint.obs['batch'].astype('category')\n",
        "adata_preint.obs['cell_type']= [leiden_to_ct[x] for x in adata.obs.leiden]\n",
        "adata_preint.obs['leiden'] = adata.obs['leiden']"
      ]
    },
    {
      "cell_type": "code",
      "execution_count": null,
      "id": "f565d241-b81b-4b1d-8174-a9cd376f5793",
      "metadata": {
        "id": "f565d241-b81b-4b1d-8174-a9cd376f5793"
      },
      "outputs": [],
      "source": [
        "#trying fast metrics\n",
        "#adata - dataset after preprocessing. adata_preint - dataset before the preprocessing\n",
        "scib.metrics.metrics_fast(adata_preint, adata, 'batch', 'leiden')"
      ]
    },
    {
      "cell_type": "code",
      "execution_count": null,
      "id": "2582150e-4f90-4b29-bf8f-e15f062a6de5",
      "metadata": {
        "id": "2582150e-4f90-4b29-bf8f-e15f062a6de5"
      },
      "outputs": [],
      "source": [
        "#computing selected metrics\n",
        "metrics = {}\n",
        "metrics['hvg_overlap'] = scib.metrics.hvg_overlap(adata_preint, adata, batch = 'batch') #there is only one batch\n",
        "metrics['silhouette'] = scib.me.silhouette(adata = adata, group_key=\"leiden\", embed = 'X_pca') #sklearn silhoutte\n",
        "metrics['graph_connectivity'] = scib.metrics.graph_connectivity(adata, label_key = 'seurat_clusters') #connectivity by original research clusters\n",
        "metrics['ari'] = scib.me.ari(adata, group1=\"leiden\", group2=\"seurat_clusters\")\n",
        "metrics['nmi'] = scib.me.nmi(adata, group1=\"leiden\", group2=\"seurat_clusters\") #mutual information"
      ]
    },
    {
      "cell_type": "code",
      "execution_count": null,
      "id": "920b3d18-6229-4c11-aafc-939db79cc76f",
      "metadata": {
        "id": "920b3d18-6229-4c11-aafc-939db79cc76f"
      },
      "outputs": [],
      "source": [
        "metrics"
      ]
    },
    {
      "cell_type": "markdown",
      "source": [
        "# Clearing the memory"
      ],
      "metadata": {
        "id": "lxVermLeghTj"
      },
      "id": "lxVermLeghTj"
    },
    {
      "cell_type": "code",
      "source": [
        "import gc\n",
        "dir()\n",
        "#del(mean)\n",
        "#del(variance)\n",
        "#del(confusion_matrix)\n",
        "# del(data)\n",
        "# del(mdata)\n",
        "gc.collect()"
      ],
      "metadata": {
        "id": "BfzeNKGVgkWA"
      },
      "id": "BfzeNKGVgkWA",
      "execution_count": null,
      "outputs": []
    },
    {
      "cell_type": "markdown",
      "id": "4485240f-f56a-4f88-8e75-64d8fc18eb51",
      "metadata": {
        "id": "4485240f-f56a-4f88-8e75-64d8fc18eb51"
      },
      "source": [
        "# Pipeline modifying"
      ]
    },
    {
      "cell_type": "code",
      "execution_count": null,
      "id": "7b8b6aff-b8bb-4a6b-81cd-e289d1637e12",
      "metadata": {
        "id": "7b8b6aff-b8bb-4a6b-81cd-e289d1637e12"
      },
      "outputs": [],
      "source": [
        "adata.obs['batch'] = 1\n",
        "adata.obs['batch'] =  adata.obs['batch'].astype('category')\n",
        "adata_preint.obs['batch'] = 1\n",
        "adata_preint.obs['batch'] =  adata_preint.obs['batch'].astype('category')\n",
        "adata.obs['seurat_clusters'] = ann_selected['seurat_clusters'].astype('category')\n",
        "adata_preint.obs['seurat_clusters'] = ann_selected['seurat_clusters'].astype('category')"
      ]
    },
    {
      "cell_type": "code",
      "source": [
        "#saving and loading adata and adata_preint, just in case RAM crashes\n",
        "adata.write('adata', compression = 'gzip')\n",
        "adata_preint.write('adata_preint', compression = 'gzip')"
      ],
      "metadata": {
        "id": "rL5j5sJZjURQ"
      },
      "id": "rL5j5sJZjURQ",
      "execution_count": null,
      "outputs": []
    },
    {
      "cell_type": "code",
      "source": [
        "gc.collect()"
      ],
      "metadata": {
        "id": "k0e4XJSfm5h9"
      },
      "id": "k0e4XJSfm5h9",
      "execution_count": null,
      "outputs": []
    },
    {
      "cell_type": "code",
      "source": [
        "#cell with import of libraries in case RAM crashes\n",
        "\n",
        "from IPython.display import Image, display, Markdown\n",
        "import numpy as np\n",
        "import pandas as pd\n",
        "import seaborn as sns\n",
        "import scipy\n",
        "import sklearn\n",
        "import rpy2\n",
        "from sklearn.preprocessing import StandardScaler\n",
        "from sklearn.decomposition import PCA\n",
        "from sklearn.manifold import MDS\n",
        "import time\n",
        "import matplotlib.pyplot as plt\n",
        "import os\n",
        "import warnings\n",
        "import copy\n",
        "import anndata\n",
        "import scanpy.external as sce\n",
        "import scanpy as sc\n",
        "import scib"
      ],
      "metadata": {
        "id": "uIo6FIG5mVLl"
      },
      "id": "uIo6FIG5mVLl",
      "execution_count": 11,
      "outputs": []
    },
    {
      "cell_type": "code",
      "source": [
        "os.chdir('/content/NGS_sc')\n",
        "adata = sc.read_h5ad('adata')\n",
        "adata_preint = sc.read_h5ad('adata_preint')\n",
        "ann_selected = pd.read_csv('ann_selected.tsv', sep = '\\t', index_col = 0)"
      ],
      "metadata": {
        "id": "YP5MfqleksfU",
        "outputId": "65bd6ef2-9afc-4381-9cce-1f24d75257d4",
        "colab": {
          "base_uri": "https://localhost:8080/",
          "height": 488
        }
      },
      "id": "YP5MfqleksfU",
      "execution_count": 12,
      "outputs": [
        {
          "output_type": "error",
          "ename": "OSError",
          "evalue": "ignored",
          "traceback": [
            "\u001b[0;31m---------------------------------------------------------------------------\u001b[0m",
            "\u001b[0;31mOSError\u001b[0m                                   Traceback (most recent call last)",
            "\u001b[0;32m<ipython-input-12-5540161e9af4>\u001b[0m in \u001b[0;36m<module>\u001b[0;34m\u001b[0m\n\u001b[1;32m      1\u001b[0m \u001b[0mos\u001b[0m\u001b[0;34m.\u001b[0m\u001b[0mchdir\u001b[0m\u001b[0;34m(\u001b[0m\u001b[0;34m'/content/NGS_sc'\u001b[0m\u001b[0;34m)\u001b[0m\u001b[0;34m\u001b[0m\u001b[0;34m\u001b[0m\u001b[0m\n\u001b[0;32m----> 2\u001b[0;31m \u001b[0madata\u001b[0m \u001b[0;34m=\u001b[0m \u001b[0msc\u001b[0m\u001b[0;34m.\u001b[0m\u001b[0mread_h5ad\u001b[0m\u001b[0;34m(\u001b[0m\u001b[0;34m'adata'\u001b[0m\u001b[0;34m)\u001b[0m\u001b[0;34m\u001b[0m\u001b[0;34m\u001b[0m\u001b[0m\n\u001b[0m\u001b[1;32m      3\u001b[0m \u001b[0madata_preint\u001b[0m \u001b[0;34m=\u001b[0m \u001b[0msc\u001b[0m\u001b[0;34m.\u001b[0m\u001b[0mread_h5ad\u001b[0m\u001b[0;34m(\u001b[0m\u001b[0;34m'adata_preint'\u001b[0m\u001b[0;34m)\u001b[0m\u001b[0;34m\u001b[0m\u001b[0;34m\u001b[0m\u001b[0m\n\u001b[1;32m      4\u001b[0m \u001b[0mann_selected\u001b[0m \u001b[0;34m=\u001b[0m \u001b[0mpd\u001b[0m\u001b[0;34m.\u001b[0m\u001b[0mread_csv\u001b[0m\u001b[0;34m(\u001b[0m\u001b[0;34m'ann_selected.tsv'\u001b[0m\u001b[0;34m,\u001b[0m \u001b[0msep\u001b[0m \u001b[0;34m=\u001b[0m \u001b[0;34m'\\t'\u001b[0m\u001b[0;34m,\u001b[0m \u001b[0mindex_col\u001b[0m \u001b[0;34m=\u001b[0m \u001b[0;36m0\u001b[0m\u001b[0;34m)\u001b[0m\u001b[0;34m\u001b[0m\u001b[0;34m\u001b[0m\u001b[0m\n",
            "\u001b[0;32m/usr/local/lib/python3.8/dist-packages/anndata/_io/h5ad.py\u001b[0m in \u001b[0;36mread_h5ad\u001b[0;34m(filename, backed, as_sparse, as_sparse_fmt, chunk_size)\u001b[0m\n\u001b[1;32m    222\u001b[0m     )\n\u001b[1;32m    223\u001b[0m \u001b[0;34m\u001b[0m\u001b[0m\n\u001b[0;32m--> 224\u001b[0;31m     \u001b[0;32mwith\u001b[0m \u001b[0mh5py\u001b[0m\u001b[0;34m.\u001b[0m\u001b[0mFile\u001b[0m\u001b[0;34m(\u001b[0m\u001b[0mfilename\u001b[0m\u001b[0;34m,\u001b[0m \u001b[0;34m\"r\"\u001b[0m\u001b[0;34m)\u001b[0m \u001b[0;32mas\u001b[0m \u001b[0mf\u001b[0m\u001b[0;34m:\u001b[0m\u001b[0;34m\u001b[0m\u001b[0;34m\u001b[0m\u001b[0m\n\u001b[0m\u001b[1;32m    225\u001b[0m         \u001b[0md\u001b[0m \u001b[0;34m=\u001b[0m \u001b[0;34m{\u001b[0m\u001b[0;34m}\u001b[0m\u001b[0;34m\u001b[0m\u001b[0;34m\u001b[0m\u001b[0m\n\u001b[1;32m    226\u001b[0m         \u001b[0;32mfor\u001b[0m \u001b[0mk\u001b[0m \u001b[0;32min\u001b[0m \u001b[0mf\u001b[0m\u001b[0;34m.\u001b[0m\u001b[0mkeys\u001b[0m\u001b[0;34m(\u001b[0m\u001b[0;34m)\u001b[0m\u001b[0;34m:\u001b[0m\u001b[0;34m\u001b[0m\u001b[0;34m\u001b[0m\u001b[0m\n",
            "\u001b[0;32m/usr/local/lib/python3.8/dist-packages/h5py/_hl/files.py\u001b[0m in \u001b[0;36m__init__\u001b[0;34m(self, name, mode, driver, libver, userblock_size, swmr, rdcc_nslots, rdcc_nbytes, rdcc_w0, track_order, fs_strategy, fs_persist, fs_threshold, **kwds)\u001b[0m\n\u001b[1;32m    422\u001b[0m             \u001b[0;32mwith\u001b[0m \u001b[0mphil\u001b[0m\u001b[0;34m:\u001b[0m\u001b[0;34m\u001b[0m\u001b[0;34m\u001b[0m\u001b[0m\n\u001b[1;32m    423\u001b[0m                 \u001b[0mfapl\u001b[0m \u001b[0;34m=\u001b[0m \u001b[0mmake_fapl\u001b[0m\u001b[0;34m(\u001b[0m\u001b[0mdriver\u001b[0m\u001b[0;34m,\u001b[0m \u001b[0mlibver\u001b[0m\u001b[0;34m,\u001b[0m \u001b[0mrdcc_nslots\u001b[0m\u001b[0;34m,\u001b[0m \u001b[0mrdcc_nbytes\u001b[0m\u001b[0;34m,\u001b[0m \u001b[0mrdcc_w0\u001b[0m\u001b[0;34m,\u001b[0m \u001b[0;34m**\u001b[0m\u001b[0mkwds\u001b[0m\u001b[0;34m)\u001b[0m\u001b[0;34m\u001b[0m\u001b[0;34m\u001b[0m\u001b[0m\n\u001b[0;32m--> 424\u001b[0;31m                 fid = make_fid(name, mode, userblock_size,\n\u001b[0m\u001b[1;32m    425\u001b[0m                                fapl, fcpl=make_fcpl(track_order=track_order, fs_strategy=fs_strategy,\n\u001b[1;32m    426\u001b[0m                                fs_persist=fs_persist, fs_threshold=fs_threshold),\n",
            "\u001b[0;32m/usr/local/lib/python3.8/dist-packages/h5py/_hl/files.py\u001b[0m in \u001b[0;36mmake_fid\u001b[0;34m(name, mode, userblock_size, fapl, fcpl, swmr)\u001b[0m\n\u001b[1;32m    188\u001b[0m         \u001b[0;32mif\u001b[0m \u001b[0mswmr\u001b[0m \u001b[0;32mand\u001b[0m \u001b[0mswmr_support\u001b[0m\u001b[0;34m:\u001b[0m\u001b[0;34m\u001b[0m\u001b[0;34m\u001b[0m\u001b[0m\n\u001b[1;32m    189\u001b[0m             \u001b[0mflags\u001b[0m \u001b[0;34m|=\u001b[0m \u001b[0mh5f\u001b[0m\u001b[0;34m.\u001b[0m\u001b[0mACC_SWMR_READ\u001b[0m\u001b[0;34m\u001b[0m\u001b[0;34m\u001b[0m\u001b[0m\n\u001b[0;32m--> 190\u001b[0;31m         \u001b[0mfid\u001b[0m \u001b[0;34m=\u001b[0m \u001b[0mh5f\u001b[0m\u001b[0;34m.\u001b[0m\u001b[0mopen\u001b[0m\u001b[0;34m(\u001b[0m\u001b[0mname\u001b[0m\u001b[0;34m,\u001b[0m \u001b[0mflags\u001b[0m\u001b[0;34m,\u001b[0m \u001b[0mfapl\u001b[0m\u001b[0;34m=\u001b[0m\u001b[0mfapl\u001b[0m\u001b[0;34m)\u001b[0m\u001b[0;34m\u001b[0m\u001b[0;34m\u001b[0m\u001b[0m\n\u001b[0m\u001b[1;32m    191\u001b[0m     \u001b[0;32melif\u001b[0m \u001b[0mmode\u001b[0m \u001b[0;34m==\u001b[0m \u001b[0;34m'r+'\u001b[0m\u001b[0;34m:\u001b[0m\u001b[0;34m\u001b[0m\u001b[0;34m\u001b[0m\u001b[0m\n\u001b[1;32m    192\u001b[0m         \u001b[0mfid\u001b[0m \u001b[0;34m=\u001b[0m \u001b[0mh5f\u001b[0m\u001b[0;34m.\u001b[0m\u001b[0mopen\u001b[0m\u001b[0;34m(\u001b[0m\u001b[0mname\u001b[0m\u001b[0;34m,\u001b[0m \u001b[0mh5f\u001b[0m\u001b[0;34m.\u001b[0m\u001b[0mACC_RDWR\u001b[0m\u001b[0;34m,\u001b[0m \u001b[0mfapl\u001b[0m\u001b[0;34m=\u001b[0m\u001b[0mfapl\u001b[0m\u001b[0;34m)\u001b[0m\u001b[0;34m\u001b[0m\u001b[0;34m\u001b[0m\u001b[0m\n",
            "\u001b[0;32mh5py/_objects.pyx\u001b[0m in \u001b[0;36mh5py._objects.with_phil.wrapper\u001b[0;34m()\u001b[0m\n",
            "\u001b[0;32mh5py/_objects.pyx\u001b[0m in \u001b[0;36mh5py._objects.with_phil.wrapper\u001b[0;34m()\u001b[0m\n",
            "\u001b[0;32mh5py/h5f.pyx\u001b[0m in \u001b[0;36mh5py.h5f.open\u001b[0;34m()\u001b[0m\n",
            "\u001b[0;31mOSError\u001b[0m: Unable to open file (unable to open file: name = 'adata', errno = 2, error message = 'No such file or directory', flags = 0, o_flags = 0)"
          ]
        }
      ]
    },
    {
      "cell_type": "markdown",
      "id": "4170e39f-e26f-4ff3-9ec1-7350ec31ba21",
      "metadata": {
        "id": "4170e39f-e26f-4ff3-9ec1-7350ec31ba21"
      },
      "source": [
        "Writing a function which does the analysis but omits/modifies specified stages"
      ]
    },
    {
      "cell_type": "code",
      "execution_count": null,
      "id": "39877123-efe8-476a-8d0d-5c7a596ac265",
      "metadata": {
        "id": "39877123-efe8-476a-8d0d-5c7a596ac265"
      },
      "outputs": [],
      "source": [
        "#we need pca to do Leiden\n",
        "def particial_pipeline(adata_preproc = adata_preint, log = True, scale = True, n_comp = 16, n_neighbors = 20, norm = True, HGV = 3000, leiden_resolution = 1, nmi_only = False):\n",
        "    adata_inproc = adata_preproc.copy()\n",
        "    adata_preproc = adata_preproc.copy()\n",
        "    if norm:\n",
        "        sc.pp.normalize_total(adata_inproc)\n",
        "    if log:\n",
        "        sc.pp.log1p(adata_inproc) \n",
        "\n",
        "    sc.pp.highly_variable_genes(\n",
        "        adata_inproc,\n",
        "        n_top_genes = HGV,\n",
        "        flavor=\"seurat_v3\",\n",
        "    )\n",
        "    \n",
        "    if scale:\n",
        "        sc.pp.scale(adata_inproc)\n",
        "    \n",
        "    sc.tl.pca(adata_inproc)\n",
        "    sc.pp.neighbors(adata_inproc, n_pcs=n_comp, n_neighbors= n_neighbors)    \n",
        "    sc.tl.leiden(adata_inproc, resolution = leiden_resolution)\n",
        "    \n",
        "    #computing the following metrics by default\n",
        "    if not nmi_only:\n",
        "        metrics = {}\n",
        "        metrics['hvg_overlap'] = scib.metrics.hvg_overlap(adata_preproc, adata_inproc, batch = 'batch') #there is only one batch\n",
        "        metrics['silhouette'] = scib.me.silhouette(adata = adata_inproc, group_key=\"leiden\", embed = 'X_pca') #sklearn silhoutte\n",
        "        metrics['graph_connectivity'] = scib.metrics.graph_connectivity(adata_inproc, label_key = 'seurat_clusters') #connectivity by original research clusters \n",
        "        metrics['ari'] = scib.me.ari(adata_inproc, group1=\"leiden\", group2=\"seurat_clusters\")\n",
        "        metrics['nmi'] = scib.me.nmi(adata_inproc, group1=\"leiden\", group2=\"seurat_clusters\") #mutual information\n",
        "    \n",
        "    #this is for the next task of searching hyperparameters\n",
        "    if nmi_only:\n",
        "        metrics = scib.me.nmi(adata_inproc, group1=\"leiden\", group2=\"seurat_clusters\")\n",
        "        \n",
        "    \n",
        "    return metrics"
      ]
    },
    {
      "cell_type": "markdown",
      "id": "b2dcca74-b0f4-4182-9ea3-053b9856bcc4",
      "metadata": {
        "id": "b2dcca74-b0f4-4182-9ea3-053b9856bcc4"
      },
      "source": [
        "First, doing it the most minimalistic way possible.\n",
        "No log1p, no scaleing, 1000 HGV, no normalizing, only 2 pca components"
      ]
    },
    {
      "cell_type": "code",
      "execution_count": null,
      "id": "ee04bc9d-5a67-469a-9b6b-eae3659a3f4b",
      "metadata": {
        "id": "ee04bc9d-5a67-469a-9b6b-eae3659a3f4b"
      },
      "outputs": [],
      "source": [
        "#note: for some reasons sometimes the function displays error, sometimes not for the same call\n",
        "particial_pipeline(adata_preint, log = False, scale = False, n_comp = 2, norm = False, HGV = 1000)"
      ]
    },
    {
      "cell_type": "markdown",
      "metadata": {
        "id": "5d48c23e-a0aa-4794-8e1a-66ad3a4695fe"
      },
      "source": [
        "Now, let's try different resolution and smaller number of neighbors"
      ],
      "id": "5d48c23e-a0aa-4794-8e1a-66ad3a4695fe"
    },
    {
      "cell_type": "code",
      "execution_count": null,
      "metadata": {
        "id": "16e976da-9bfe-47a0-9bcd-7267b15e8a0e"
      },
      "outputs": [],
      "source": [
        "particial_pipeline(adata_preint, n_neighbors = 20, leiden_resolution = np.e, nmi_only = True)"
      ],
      "id": "16e976da-9bfe-47a0-9bcd-7267b15e8a0e"
    },
    {
      "cell_type": "markdown",
      "source": [
        "No Scale"
      ],
      "metadata": {
        "id": "EaLUV6MUrbEV"
      },
      "id": "EaLUV6MUrbEV"
    },
    {
      "cell_type": "code",
      "execution_count": null,
      "metadata": {
        "id": "GfPszzFRrX-n"
      },
      "outputs": [],
      "source": [
        "#might fail sometimes, but precomputed metrics are already below\n",
        "#particial_pipeline(scale = False)"
      ],
      "id": "GfPszzFRrX-n"
    },
    {
      "cell_type": "code",
      "source": [
        "Image('003.png')"
      ],
      "metadata": {
        "id": "78JkpWVf5qU7",
        "outputId": "95a31172-666f-4aea-c902-c953c0dc90b6",
        "colab": {
          "base_uri": "https://localhost:8080/",
          "height": 115
        }
      },
      "id": "78JkpWVf5qU7",
      "execution_count": 7,
      "outputs": [
        {
          "output_type": "execute_result",
          "data": {
            "image/png": "[encoded data removed]",
            "text/plain": [
              "<IPython.core.display.Image object>"
            ]
          },
          "metadata": {},
          "execution_count": 7
        }
      ]
    },
    {
      "cell_type": "markdown",
      "id": "ed38081a-4994-43e5-90a2-4af7d8a770ed",
      "metadata": {
        "id": "ed38081a-4994-43e5-90a2-4af7d8a770ed"
      },
      "source": [
        "Many pca_components"
      ]
    },
    {
      "cell_type": "code",
      "execution_count": null,
      "id": "00aaa3d9-cf56-4cfc-969f-6b7ccf74bafb",
      "metadata": {
        "id": "00aaa3d9-cf56-4cfc-969f-6b7ccf74bafb"
      },
      "outputs": [],
      "source": [
        "#might fail sometimes, but precomputed metrics are already below\n",
        "#particial_pipeline(n_comp = 50)"
      ]
    },
    {
      "cell_type": "code",
      "source": [
        "Image('004.png')"
      ],
      "metadata": {
        "id": "VsmveMW85qzm",
        "outputId": "546a8802-e53b-4c0c-f3c2-e9d81a6697c6",
        "colab": {
          "base_uri": "https://localhost:8080/",
          "height": 116
        }
      },
      "id": "VsmveMW85qzm",
      "execution_count": 8,
      "outputs": [
        {
          "output_type": "execute_result",
          "data": {
            "image/png": "[encoded data removed]",
            "text/plain": [
              "<IPython.core.display.Image object>"
            ]
          },
          "metadata": {},
          "execution_count": 8
        }
      ]
    },
    {
      "cell_type": "markdown",
      "id": "232147ee-f6fc-4c48-95fa-d96b96501f68",
      "metadata": {
        "id": "232147ee-f6fc-4c48-95fa-d96b96501f68"
      },
      "source": [
        "Too few pca_components"
      ]
    },
    {
      "cell_type": "code",
      "execution_count": null,
      "id": "1b1d3ade-ca98-49ae-93f4-0f6aa31327b4",
      "metadata": {
        "id": "1b1d3ade-ca98-49ae-93f4-0f6aa31327b4"
      },
      "outputs": [],
      "source": [
        "#might fail sometimes, but precomputed metrics are already below\n",
        "#particial_pipeline(n_comp = 3)"
      ]
    },
    {
      "cell_type": "code",
      "source": [
        "Image('005.png')"
      ],
      "metadata": {
        "id": "jVPi938W5rM2",
        "outputId": "3d9f93a8-9e1e-4575-baf9-ea4a61bb5836",
        "colab": {
          "base_uri": "https://localhost:8080/",
          "height": 113
        }
      },
      "id": "jVPi938W5rM2",
      "execution_count": 9,
      "outputs": [
        {
          "output_type": "execute_result",
          "data": {
            "image/png": "[encoded data removed]",
            "text/plain": [
              "<IPython.core.display.Image object>"
            ]
          },
          "metadata": {},
          "execution_count": 9
        }
      ]
    },
    {
      "cell_type": "markdown",
      "source": [
        "No log1p"
      ],
      "metadata": {
        "id": "Y1d3yct1rtOl"
      },
      "id": "Y1d3yct1rtOl"
    },
    {
      "cell_type": "code",
      "execution_count": null,
      "metadata": {
        "id": "ff22ad2a-708f-48a8-b120-eb891f35a955"
      },
      "outputs": [],
      "source": [
        "particial_pipeline(log = False, nmi_only = True)"
      ],
      "id": "ff22ad2a-708f-48a8-b120-eb891f35a955"
    },
    {
      "cell_type": "markdown",
      "id": "c3d25d96-af7d-486a-b550-6843009086c3",
      "metadata": {
        "id": "c3d25d96-af7d-486a-b550-6843009086c3"
      },
      "source": [
        "Interestingly enough, increasing the number of principal components in PCA improved the mutual information between my clustering and clustering of researchers a lot. They probably didn't truncate pca much. Getting rid of norm, log and scale had a negative effect."
      ]
    },
    {
      "cell_type": "code",
      "execution_count": null,
      "id": "3b07e5ef-ea91-4f0b-82d9-c37697a41f78",
      "metadata": {
        "id": "3b07e5ef-ea91-4f0b-82d9-c37697a41f78"
      },
      "outputs": [],
      "source": []
    },
    {
      "cell_type": "markdown",
      "id": "5662b9a2-a4a4-47df-82ba-fa5918c4c8ac",
      "metadata": {
        "id": "5662b9a2-a4a4-47df-82ba-fa5918c4c8ac"
      },
      "source": [
        "# Searching for the best parameters (**IT TAKES A WHILE TO RUN THE SEARCH**)"
      ]
    },
    {
      "cell_type": "markdown",
      "id": "70fa39c1-7c2d-49aa-b9de-95941f762461",
      "metadata": {
        "id": "70fa39c1-7c2d-49aa-b9de-95941f762461"
      },
      "source": [
        "I will use number of neighbors, pca components, HGV as parameters. \n",
        "\n",
        "Doing gradient descent here isn't feasible because values are descerete. So I just will be changing the parameters either incrementally increasing or decreasing them until no improvement in a single step can be found. Or until the maximum number of iterations is reached.\n",
        "\n",
        "Mutual information is used as the metrics."
      ]
    },
    {
      "cell_type": "code",
      "execution_count": null,
      "id": "4b087601-8eaa-44e0-a1ec-90ec9c904cda",
      "metadata": {
        "id": "4b087601-8eaa-44e0-a1ec-90ec9c904cda"
      },
      "outputs": [],
      "source": [
        "import gc\n",
        "def sidestep_search(neighbors_start = 20, ncomp_start = 20, HGV_start = 2100, max_steps = 12):\n",
        "    \n",
        "    metrics_best = particial_pipeline(n_comp = ncomp_start, n_neighbors = neighbors_start, HGV = HGV_start, nmi_only = True)\n",
        "    \n",
        "    ncomp_best = ncomp_start\n",
        "    neighbors_best = neighbors_start\n",
        "    HGV_best = HGV_start\n",
        "    print(f'new best result. nn = {neighbors_best}, ncomp = {neighbors_best}, HGV = {HGV_best}')\n",
        "    \n",
        "    '''\n",
        "    since there is 3 metrics, there is only 6 directions where optimization can be moved. \n",
        "    However, iterating through all of them until local maximum is found would take too long, \n",
        "    so, as the prove of concept, I'm going to do the exhaustive search and severely limit \n",
        "    the algorithm instead.\n",
        "    '''\n",
        "    step = 0\n",
        "    \n",
        "    #For proving the concept. Limiting max number of steps in each direction tried\n",
        "    steps_tried = {'decr_pca': 0,\n",
        "                  'incr_pca': 0,\n",
        "                  'decr_nn':0, #number of neighbors\n",
        "                  'incr_nn':0,\n",
        "                  'decr_HGV':0,\n",
        "                  'incr_HGV':0,} \n",
        "    max_steps_tried = {'decr_pca': 0,\n",
        "                  'incr_pca': 0,\n",
        "                  'decr_nn':0, #number of neighbors\n",
        "                  'incr_nn':0,\n",
        "                  'decr_HGV':0,\n",
        "                  'incr_HGV':0,} \n",
        "    \n",
        "     \n",
        "    while True:\n",
        "        step += 1\n",
        "        \n",
        "        #direction of decreasing ncomp\n",
        "        if steps_tried['decr_pca'] < 5: #prove of concept so limited to 2, otherwise this and the next line wouldn't be there\n",
        "            steps_tried['decr_pca'] += 1\n",
        "            metrics_check = particial_pipeline(n_comp = ncomp_best - 4, n_neighbors = neighbors_best, HGV = HGV_best, nmi_only = True)\n",
        "            if metrics_check > metrics_best:\n",
        "                ncomp_best -= 4\n",
        "                metrics_best = metrics_check\n",
        "                print(f'new best result nmi = {metrics_check}. nn = {neighbors_best}, ncomp = {ncomp_best}, HGV = {HGV_best}')\n",
        "            else: \n",
        "                print(f'tried. nn = {neighbors_best}, ncomp = {ncomp_best-4}, HGV = {HGV_best}, the metric is worse and is {metrics_check}')\n",
        "            gc.collect()\n",
        "                \n",
        "         #direction of increasing ncomp       \n",
        "        if steps_tried['incr_pca'] < 5:\n",
        "            steps_tried['incr_pca'] += 1\n",
        "            metrics_check = particial_pipeline(n_comp = ncomp_best + 4, n_neighbors = neighbors_best, HGV = HGV_best, nmi_only = True)\n",
        "            if metrics_check > metrics_best:\n",
        "                ncomp_best += 4\n",
        "                metrics_best = metrics_check\n",
        "                print(f'new best result nmi = {metrics_check}. nn = {neighbors_best}, ncomp = {ncomp_best}, HGV = {HGV_best}')\n",
        "            else: \n",
        "                print(f'tried. nn = {neighbors_best}, ncomp = {ncomp_best+4}, HGV = {HGV_best}, the metric is worse and is {metrics_check}')\n",
        "            gc.collect()\n",
        "         \n",
        "        #direction of decreasing neighbors  \n",
        "        if steps_tried['decr_nn'] < 5:\n",
        "            steps_tried['decr_nn'] += 1\n",
        "            metrics_check = particial_pipeline(n_comp = ncomp_best, n_neighbors = neighbors_best - 3, HGV = HGV_best, nmi_only = True)\n",
        "            if metrics_check > metrics_best:\n",
        "                neighbors_best -= 3\n",
        "                metrics_best = metrics_check\n",
        "                print(f'new best result nmi = {metrics_check}. nn = {neighbors_best}, ncomp = {ncomp_best}, HGV = {HGV_best}')\n",
        "            else: \n",
        "                print(f'tried. nn = {neighbors_best-3}, ncomp = {ncomp_best}, HGV = {HGV_best}, the metric is worse and is {metrics_check}')\n",
        "            gc.collect()\n",
        "                \n",
        "        #direction of increasing neighbors         \n",
        "        if steps_tried['incr_nn'] < 5:\n",
        "            steps_tried['incr_nn'] += 1\n",
        "            metrics_check = particial_pipeline(n_comp = ncomp_best, n_neighbors = neighbors_best + 3, HGV = HGV_best, nmi_only = True)\n",
        "            if metrics_check > metrics_best:\n",
        "                neighbors_best += 3\n",
        "                metrics_best = metrics_check\n",
        "                print(f'new best result nmi = {metrics_check}. nn = {neighbors_best}, ncomp = {ncomp_best}, HGV = {HGV_best}')\n",
        "            else: \n",
        "                print(f'tried. nn = {neighbors_best+3}, ncomp = {ncomp_best}, HGV = {HGV_best}, the metric is worse and is {metrics_check}')\n",
        "            gc.collect()\n",
        "                \n",
        "        #direction of decreasing HGV                 \n",
        "        if steps_tried['decr_HGV'] < 5:\n",
        "            steps_tried['decr_HGV'] += 1\n",
        "            metrics_check = particial_pipeline(n_comp = ncomp_best, n_neighbors = neighbors_best, HGV = HGV_best - 100, nmi_only = True)\n",
        "            if metrics_check > metrics_best:\n",
        "                HGV_best -= 100\n",
        "                metrics_best = metrics_check\n",
        "                print(f'new best result nmi = {metrics_check}. nn = {neighbors_best}, ncomp = {ncomp_best}, HGV = {HGV_best}')\n",
        "            else: \n",
        "                print(f'tried. nn = {neighbors_best}, ncomp = {ncomp_best}, HGV = {HGV_best-100}, the metric is worse and is {metrics_check}')\n",
        "            gc.collect()\n",
        "         \n",
        "        #direction of increasing HGV   \n",
        "        if steps_tried['incr_HGV'] < 5:\n",
        "            steps_tried['incr_HGV'] += 1\n",
        "            metrics_check = particial_pipeline(n_comp = ncomp_best, n_neighbors = neighbors_best, HGV = HGV_best + 100, nmi_only = True)\n",
        "            if metrics_check > metrics_best:\n",
        "                HGV_best += 100\n",
        "                metrics_best = metrics_check\n",
        "                print(f'new best result nmi = {metrics_check}. nn = {neighbors_best}, ncomp = {ncomp_best}, HGV = {HGV_best}')\n",
        "            else: \n",
        "                print(f'tried. nn = {neighbors_best}, ncomp = {ncomp_best}, HGV = {HGV_best+100}, the metric is worse and is {metrics_check}')\n",
        "            gc.collect()\n",
        "                \n",
        "                  \n",
        "        \n",
        "        if step >= max_steps:\n",
        "            break\n",
        "\n",
        "    print()   \n",
        "    print('done') \n",
        "    print(f'best result: nmi = {metrics_check}. nn = {neighbors_best}, ncomp = {ncomp_best}, HGV = {HGV_best}') "
      ]
    },
    {
      "cell_type": "code",
      "source": [
        "import gc\n",
        "gc.collect()"
      ],
      "metadata": {
        "id": "g6qyjQ1_piqE"
      },
      "id": "g6qyjQ1_piqE",
      "execution_count": null,
      "outputs": []
    },
    {
      "cell_type": "code",
      "execution_count": null,
      "id": "795823b3-ffe0-4456-8b95-4541cbcaf815",
      "metadata": {
        "id": "795823b3-ffe0-4456-8b95-4541cbcaf815"
      },
      "outputs": [],
      "source": [
        "#sadly, the function can't fully run because of RAM problem. But overall, it works.\n",
        "import warnings\n",
        "warnings.filterwarnings('ignore')\n",
        "sidestep_search(neighbors_start = 20, ncomp_start = 20, HGV_start = 2100, max_steps = 12)"
      ]
    },
    {
      "cell_type": "code",
      "execution_count": null,
      "id": "0a5a208a-5341-4758-ac54-70f9861daabf",
      "metadata": {
        "id": "0a5a208a-5341-4758-ac54-70f9861daabf"
      },
      "outputs": [],
      "source": []
    },
    {
      "cell_type": "markdown",
      "source": [
        "# Trying alternatives instead of Leiden"
      ],
      "metadata": {
        "id": "OqJcmzA66u70"
      },
      "id": "OqJcmzA66u70"
    },
    {
      "cell_type": "code",
      "source": [
        "# Let's try Louvain instead of Leiden, which basically is a more straight-forward approach\n",
        "# https://www.nature.com/articles/s41598-019-41695-z"
      ],
      "metadata": {
        "id": "A_ZBi7cn6zL6"
      },
      "id": "A_ZBi7cn6zL6",
      "execution_count": 10,
      "outputs": []
    },
    {
      "cell_type": "code",
      "source": [
        "def particial_pipeline(adata_preproc = adata_preint, log = True, scale = True, n_comp = 16, n_neighbors = 20, norm = True, HGV = 3000, leiden_resolution = 1, nmi_only = False):\n",
        "    adata_inproc = adata_preproc.copy()\n",
        "    adata_preproc = adata_preproc.copy()\n",
        "    if norm:\n",
        "        sc.pp.normalize_total(adata_inproc)\n",
        "    if log:\n",
        "        sc.pp.log1p(adata_inproc) \n",
        "\n",
        "    sc.pp.highly_variable_genes(\n",
        "        adata_inproc,\n",
        "        n_top_genes = HGV,\n",
        "        flavor=\"seurat_v3\",\n",
        "    )\n",
        "    \n",
        "    if scale:\n",
        "        sc.pp.scale(adata_inproc)\n",
        "    \n",
        "    sc.tl.pca(adata_inproc)\n",
        "    sc.pp.neighbors(adata_inproc, n_pcs=n_comp, n_neighbors= n_neighbors)    \n",
        "    sc.tl.louvain(adata_inproc, resolution = None)      # REPLACING LEIDEN WITH LOUVIAN HERE\n",
        "    \n",
        "    #computing the following metrics by default\n",
        "    if not nmi_only:\n",
        "        metrics = {}\n",
        "        # metrics['hvg_overlap'] = scib.metrics.hvg_overlap(adata_preproc, adata_inproc, batch = 'batch') #there is only one batch\n",
        "        # metrics['silhouette'] = scib.me.silhouette(adata = adata_inproc, group_key=\"leiden\", embed = 'X_pca') #sklearn silhoutte\n",
        "        metrics['graph_connectivity'] = scib.metrics.graph_connectivity(adata_inproc, label_key = 'seurat_clusters') #connectivity by original research clusters \n",
        "        metrics['ari'] = scib.me.ari(adata_inproc, group1=\"louvian\", group2=\"seurat_clusters\")\n",
        "        metrics['nmi'] = scib.me.nmi(adata_inproc, group1=\"louvian\", group2=\"seurat_clusters\") #mutual information\n",
        "    \n",
        "    #this is for the next task of searching hyperparameters\n",
        "    if nmi_only:\n",
        "        metrics = scib.me.nmi(adata_inproc, group1=\"louvian\", group2=\"seurat_clusters\")\n",
        "        \n",
        "    \n",
        "    return metrics"
      ],
      "metadata": {
        "id": "fE3W6z9b-K2I"
      },
      "id": "fE3W6z9b-K2I",
      "execution_count": null,
      "outputs": []
    },
    {
      "cell_type": "code",
      "source": [
        "particial_pipeline(adata_preint)"
      ],
      "metadata": {
        "id": "KicWKuIj-8Oi"
      },
      "id": "KicWKuIj-8Oi",
      "execution_count": null,
      "outputs": []
    }
  ],
  "metadata": {
    "kernelspec": {
      "display_name": "NGSenv",
      "language": "python",
      "name": "ngsenv"
    },
    "language_info": {
      "codemirror_mode": {
        "name": "ipython",
        "version": 3
      },
      "file_extension": ".py",
      "mimetype": "text/x-python",
      "name": "python",
      "nbconvert_exporter": "python",
      "pygments_lexer": "ipython3",
      "version": "3.10.8"
    },
    "colab": {
      "provenance": [],
      "include_colab_link": true
    }
  },
  "nbformat": 4,
  "nbformat_minor": 5
}